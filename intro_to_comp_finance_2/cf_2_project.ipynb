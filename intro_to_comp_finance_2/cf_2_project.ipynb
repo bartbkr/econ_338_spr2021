{
 "cells": [
  {
   "cell_type": "code",
   "execution_count": 2,
   "id": "falling-tonight",
   "metadata": {},
   "outputs": [],
   "source": [
    "import os\n",
    "import yfinance\n",
    "\n",
    "import pandas as pa\n",
    "import numpy as np\n",
    "import statsmodels.api as sm\n",
    "import matplotlib.pyplot as plt\n",
    "\n",
    "from statsmodels.tsa.ar_model import ar_select_order"
   ]
  },
  {
   "cell_type": "code",
   "execution_count": 3,
   "id": "brutal-department",
   "metadata": {},
   "outputs": [],
   "source": [
    "# DOC: Make all the plots bigger\n",
    "plt.rcParams[\"figure.figsize\"] = [10, 5]"
   ]
  },
  {
   "cell_type": "code",
   "execution_count": 4,
   "id": "southern-muscle",
   "metadata": {},
   "outputs": [],
   "source": [
    "tsla = yfinance.Ticker('TSLA')"
   ]
  },
  {
   "cell_type": "code",
   "execution_count": 5,
   "id": "important-trading",
   "metadata": {},
   "outputs": [
    {
     "data": {
      "text/html": [
       "<div>\n",
       "<style scoped>\n",
       "    .dataframe tbody tr th:only-of-type {\n",
       "        vertical-align: middle;\n",
       "    }\n",
       "\n",
       "    .dataframe tbody tr th {\n",
       "        vertical-align: top;\n",
       "    }\n",
       "\n",
       "    .dataframe thead th {\n",
       "        text-align: right;\n",
       "    }\n",
       "</style>\n",
       "<table border=\"1\" class=\"dataframe\">\n",
       "  <thead>\n",
       "    <tr style=\"text-align: right;\">\n",
       "      <th></th>\n",
       "      <th>Open</th>\n",
       "      <th>High</th>\n",
       "      <th>Low</th>\n",
       "      <th>Close</th>\n",
       "      <th>Volume</th>\n",
       "      <th>Dividends</th>\n",
       "      <th>Stock Splits</th>\n",
       "    </tr>\n",
       "    <tr>\n",
       "      <th>Date</th>\n",
       "      <th></th>\n",
       "      <th></th>\n",
       "      <th></th>\n",
       "      <th></th>\n",
       "      <th></th>\n",
       "      <th></th>\n",
       "      <th></th>\n",
       "    </tr>\n",
       "  </thead>\n",
       "  <tbody>\n",
       "    <tr>\n",
       "      <th>2010-06-29</th>\n",
       "      <td>3.800000</td>\n",
       "      <td>5.000000</td>\n",
       "      <td>3.508000</td>\n",
       "      <td>4.778000</td>\n",
       "      <td>93831500</td>\n",
       "      <td>0</td>\n",
       "      <td>0.0</td>\n",
       "    </tr>\n",
       "    <tr>\n",
       "      <th>2010-06-30</th>\n",
       "      <td>5.158000</td>\n",
       "      <td>6.084000</td>\n",
       "      <td>4.660000</td>\n",
       "      <td>4.766000</td>\n",
       "      <td>85935500</td>\n",
       "      <td>0</td>\n",
       "      <td>0.0</td>\n",
       "    </tr>\n",
       "    <tr>\n",
       "      <th>2010-07-01</th>\n",
       "      <td>5.000000</td>\n",
       "      <td>5.184000</td>\n",
       "      <td>4.054000</td>\n",
       "      <td>4.392000</td>\n",
       "      <td>41094000</td>\n",
       "      <td>0</td>\n",
       "      <td>0.0</td>\n",
       "    </tr>\n",
       "    <tr>\n",
       "      <th>2010-07-02</th>\n",
       "      <td>4.600000</td>\n",
       "      <td>4.620000</td>\n",
       "      <td>3.742000</td>\n",
       "      <td>3.840000</td>\n",
       "      <td>25699000</td>\n",
       "      <td>0</td>\n",
       "      <td>0.0</td>\n",
       "    </tr>\n",
       "    <tr>\n",
       "      <th>2010-07-06</th>\n",
       "      <td>4.000000</td>\n",
       "      <td>4.000000</td>\n",
       "      <td>3.166000</td>\n",
       "      <td>3.222000</td>\n",
       "      <td>34334500</td>\n",
       "      <td>0</td>\n",
       "      <td>0.0</td>\n",
       "    </tr>\n",
       "    <tr>\n",
       "      <th>...</th>\n",
       "      <td>...</td>\n",
       "      <td>...</td>\n",
       "      <td>...</td>\n",
       "      <td>...</td>\n",
       "      <td>...</td>\n",
       "      <td>...</td>\n",
       "      <td>...</td>\n",
       "    </tr>\n",
       "    <tr>\n",
       "      <th>2021-04-15</th>\n",
       "      <td>743.099976</td>\n",
       "      <td>743.690002</td>\n",
       "      <td>721.309998</td>\n",
       "      <td>738.849976</td>\n",
       "      <td>27848900</td>\n",
       "      <td>0</td>\n",
       "      <td>0.0</td>\n",
       "    </tr>\n",
       "    <tr>\n",
       "      <th>2021-04-16</th>\n",
       "      <td>728.650024</td>\n",
       "      <td>749.409973</td>\n",
       "      <td>724.599976</td>\n",
       "      <td>739.780029</td>\n",
       "      <td>27924000</td>\n",
       "      <td>0</td>\n",
       "      <td>0.0</td>\n",
       "    </tr>\n",
       "    <tr>\n",
       "      <th>2021-04-19</th>\n",
       "      <td>719.599976</td>\n",
       "      <td>725.400024</td>\n",
       "      <td>691.799988</td>\n",
       "      <td>714.630005</td>\n",
       "      <td>39686200</td>\n",
       "      <td>0</td>\n",
       "      <td>0.0</td>\n",
       "    </tr>\n",
       "    <tr>\n",
       "      <th>2021-04-20</th>\n",
       "      <td>717.419983</td>\n",
       "      <td>737.250000</td>\n",
       "      <td>710.690002</td>\n",
       "      <td>718.989990</td>\n",
       "      <td>35550500</td>\n",
       "      <td>0</td>\n",
       "      <td>0.0</td>\n",
       "    </tr>\n",
       "    <tr>\n",
       "      <th>2021-04-21</th>\n",
       "      <td>704.770020</td>\n",
       "      <td>740.799988</td>\n",
       "      <td>698.000000</td>\n",
       "      <td>740.150024</td>\n",
       "      <td>26596586</td>\n",
       "      <td>0</td>\n",
       "      <td>0.0</td>\n",
       "    </tr>\n",
       "  </tbody>\n",
       "</table>\n",
       "<p>2722 rows × 7 columns</p>\n",
       "</div>"
      ],
      "text/plain": [
       "                  Open        High         Low       Close    Volume  \\\n",
       "Date                                                                   \n",
       "2010-06-29    3.800000    5.000000    3.508000    4.778000  93831500   \n",
       "2010-06-30    5.158000    6.084000    4.660000    4.766000  85935500   \n",
       "2010-07-01    5.000000    5.184000    4.054000    4.392000  41094000   \n",
       "2010-07-02    4.600000    4.620000    3.742000    3.840000  25699000   \n",
       "2010-07-06    4.000000    4.000000    3.166000    3.222000  34334500   \n",
       "...                ...         ...         ...         ...       ...   \n",
       "2021-04-15  743.099976  743.690002  721.309998  738.849976  27848900   \n",
       "2021-04-16  728.650024  749.409973  724.599976  739.780029  27924000   \n",
       "2021-04-19  719.599976  725.400024  691.799988  714.630005  39686200   \n",
       "2021-04-20  717.419983  737.250000  710.690002  718.989990  35550500   \n",
       "2021-04-21  704.770020  740.799988  698.000000  740.150024  26596586   \n",
       "\n",
       "            Dividends  Stock Splits  \n",
       "Date                                 \n",
       "2010-06-29          0           0.0  \n",
       "2010-06-30          0           0.0  \n",
       "2010-07-01          0           0.0  \n",
       "2010-07-02          0           0.0  \n",
       "2010-07-06          0           0.0  \n",
       "...               ...           ...  \n",
       "2021-04-15          0           0.0  \n",
       "2021-04-16          0           0.0  \n",
       "2021-04-19          0           0.0  \n",
       "2021-04-20          0           0.0  \n",
       "2021-04-21          0           0.0  \n",
       "\n",
       "[2722 rows x 7 columns]"
      ]
     },
     "execution_count": 5,
     "metadata": {},
     "output_type": "execute_result"
    }
   ],
   "source": [
    "tsla_history = tsla.history(start='2000-01-01')\n",
    "tsla_history"
   ]
  },
  {
   "cell_type": "code",
   "execution_count": 6,
   "id": "respected-booking",
   "metadata": {},
   "outputs": [
    {
     "data": {
      "text/plain": [
       "<AxesSubplot:xlabel='Date'>"
      ]
     },
     "execution_count": 6,
     "metadata": {},
     "output_type": "execute_result"
    },
    {
     "data": {
      "image/png": "[encoded data removed]",
      "text/plain": [
       "<Figure size 720x432 with 1 Axes>"
      ]
     },
     "metadata": {
      "needs_background": "light"
     },
     "output_type": "display_data"
    }
   ],
   "source": [
    "tsla_history['Close'].plot(figsize=(10,6))"
   ]
  },
  {
   "cell_type": "code",
   "execution_count": 7,
   "id": "possible-supply",
   "metadata": {},
   "outputs": [
    {
     "data": {
      "text/plain": [
       "Date\n",
       "2010-06-29      4.778000\n",
       "2010-06-30      4.766000\n",
       "2010-07-01      4.392000\n",
       "2010-07-02      3.840000\n",
       "2010-07-06      3.222000\n",
       "                 ...    \n",
       "2021-04-15    738.849976\n",
       "2021-04-16    739.780029\n",
       "2021-04-19    714.630005\n",
       "2021-04-20    718.989990\n",
       "2021-04-21    740.150024\n",
       "Name: Close, Length: 2722, dtype: float64"
      ]
     },
     "execution_count": 7,
     "metadata": {},
     "output_type": "execute_result"
    }
   ],
   "source": [
    "tsla_history_close = tsla_history['Close']\n",
    "tsla_history_close"
   ]
  },
  {
   "cell_type": "code",
   "execution_count": 8,
   "id": "revised-rebound",
   "metadata": {},
   "outputs": [],
   "source": [
    "business_day_range = pa.date_range(\n",
    "    start='2010-06-29', \n",
    "    end='2021-04-13', \n",
    "    freq='B'\n",
    ")"
   ]
  },
  {
   "cell_type": "code",
   "execution_count": 9,
   "id": "focal-victory",
   "metadata": {},
   "outputs": [
    {
     "data": {
      "text/plain": [
       "DatetimeIndex(['2010-06-29', '2010-06-30', '2010-07-01', '2010-07-02',\n",
       "               '2010-07-05', '2010-07-06', '2010-07-07', '2010-07-08',\n",
       "               '2010-07-09', '2010-07-12',\n",
       "               ...\n",
       "               '2021-03-31', '2021-04-01', '2021-04-02', '2021-04-05',\n",
       "               '2021-04-06', '2021-04-07', '2021-04-08', '2021-04-09',\n",
       "               '2021-04-12', '2021-04-13'],\n",
       "              dtype='datetime64[ns]', length=2816, freq='B')"
      ]
     },
     "execution_count": 9,
     "metadata": {},
     "output_type": "execute_result"
    }
   ],
   "source": [
    "business_day_range"
   ]
  },
  {
   "cell_type": "code",
   "execution_count": 10,
   "id": "worst-navigation",
   "metadata": {},
   "outputs": [
    {
     "data": {
      "text/plain": [
       "2010-06-29      4.778000\n",
       "2010-06-30      4.766000\n",
       "2010-07-01      4.392000\n",
       "2010-07-02      3.840000\n",
       "2010-07-05           NaN\n",
       "                 ...    \n",
       "2021-04-07    670.969971\n",
       "2021-04-08    683.799988\n",
       "2021-04-09    677.020020\n",
       "2021-04-12    701.979980\n",
       "2021-04-13    762.320007\n",
       "Freq: B, Name: Close, Length: 2816, dtype: float64"
      ]
     },
     "execution_count": 10,
     "metadata": {},
     "output_type": "execute_result"
    }
   ],
   "source": [
    "# DOC: Get a value for every business day\n",
    "tsla_history_close = tsla_history_close.reindex(business_day_range)\n",
    "tsla_history_close"
   ]
  },
  {
   "cell_type": "code",
   "execution_count": 11,
   "id": "overhead-extreme",
   "metadata": {},
   "outputs": [
    {
     "data": {
      "text/plain": [
       "2010-06-29      4.778000\n",
       "2010-06-30      4.766000\n",
       "2010-07-01      4.392000\n",
       "2010-07-02      3.840000\n",
       "2010-07-05      3.840000\n",
       "                 ...    \n",
       "2021-04-07    670.969971\n",
       "2021-04-08    683.799988\n",
       "2021-04-09    677.020020\n",
       "2021-04-12    701.979980\n",
       "2021-04-13    762.320007\n",
       "Freq: B, Name: Close, Length: 2816, dtype: float64"
      ]
     },
     "execution_count": 11,
     "metadata": {},
     "output_type": "execute_result"
    }
   ],
   "source": [
    "# DOC: Interpolate any missing values (shouldn't be alot)\n",
    "tsla_history_close.fillna(method='ffill', inplace=True)\n",
    "tsla_history_close"
   ]
  },
  {
   "cell_type": "code",
   "execution_count": 12,
   "id": "gentle-mechanism",
   "metadata": {},
   "outputs": [
    {
     "data": {
      "text/plain": [
       "DatetimeIndex(['2010-06-29', '2010-06-30', '2010-07-01', '2010-07-02',\n",
       "               '2010-07-05', '2010-07-06', '2010-07-07', '2010-07-08',\n",
       "               '2010-07-09', '2010-07-12',\n",
       "               ...\n",
       "               '2021-03-31', '2021-04-01', '2021-04-02', '2021-04-05',\n",
       "               '2021-04-06', '2021-04-07', '2021-04-08', '2021-04-09',\n",
       "               '2021-04-12', '2021-04-13'],\n",
       "              dtype='datetime64[ns]', length=2816, freq='B')"
      ]
     },
     "execution_count": 12,
     "metadata": {},
     "output_type": "execute_result"
    }
   ],
   "source": [
    "tsla_history_close.index"
   ]
  },
  {
   "cell_type": "code",
   "execution_count": 13,
   "id": "nuclear-pierre",
   "metadata": {},
   "outputs": [
    {
     "data": {
      "text/plain": [
       "('2021-04-23',\n",
       " '2021-04-30',\n",
       " '2021-05-07',\n",
       " '2021-05-14',\n",
       " '2021-05-21',\n",
       " '2021-05-28',\n",
       " '2021-06-18',\n",
       " '2021-07-16',\n",
       " '2021-09-17',\n",
       " '2021-12-17',\n",
       " '2022-01-21',\n",
       " '2022-03-18',\n",
       " '2022-06-17',\n",
       " '2022-09-16',\n",
       " '2023-01-20',\n",
       " '2023-03-17')"
      ]
     },
     "execution_count": 13,
     "metadata": {},
     "output_type": "execute_result"
    }
   ],
   "source": [
    "tsla.options"
   ]
  },
  {
   "cell_type": "code",
   "execution_count": 14,
   "id": "taken-checkout",
   "metadata": {},
   "outputs": [],
   "source": [
    "tsla_option_chain = tsla.option_chain('2021-06-18')"
   ]
  },
  {
   "cell_type": "code",
   "execution_count": 15,
   "id": "upset-shield",
   "metadata": {},
   "outputs": [
    {
     "data": {
      "text/html": [
       "<div>\n",
       "<style scoped>\n",
       "    .dataframe tbody tr th:only-of-type {\n",
       "        vertical-align: middle;\n",
       "    }\n",
       "\n",
       "    .dataframe tbody tr th {\n",
       "        vertical-align: top;\n",
       "    }\n",
       "\n",
       "    .dataframe thead th {\n",
       "        text-align: right;\n",
       "    }\n",
       "</style>\n",
       "<table border=\"1\" class=\"dataframe\">\n",
       "  <thead>\n",
       "    <tr style=\"text-align: right;\">\n",
       "      <th></th>\n",
       "      <th>contractSymbol</th>\n",
       "      <th>lastTradeDate</th>\n",
       "      <th>strike</th>\n",
       "      <th>lastPrice</th>\n",
       "      <th>bid</th>\n",
       "      <th>ask</th>\n",
       "      <th>change</th>\n",
       "      <th>percentChange</th>\n",
       "      <th>volume</th>\n",
       "      <th>openInterest</th>\n",
       "      <th>impliedVolatility</th>\n",
       "      <th>inTheMoney</th>\n",
       "      <th>contractSize</th>\n",
       "      <th>currency</th>\n",
       "    </tr>\n",
       "  </thead>\n",
       "  <tbody>\n",
       "    <tr>\n",
       "      <th>282</th>\n",
       "      <td>TSLA210618C00850000</td>\n",
       "      <td>2021-04-21 19:26:20</td>\n",
       "      <td>850.0</td>\n",
       "      <td>31.30</td>\n",
       "      <td>31.20</td>\n",
       "      <td>31.60</td>\n",
       "      <td>2.759998</td>\n",
       "      <td>9.670631</td>\n",
       "      <td>245.0</td>\n",
       "      <td>24687</td>\n",
       "      <td>0.578831</td>\n",
       "      <td>False</td>\n",
       "      <td>REGULAR</td>\n",
       "      <td>USD</td>\n",
       "    </tr>\n",
       "    <tr>\n",
       "      <th>305</th>\n",
       "      <td>TSLA210618C01050000</td>\n",
       "      <td>2021-04-21 19:26:06</td>\n",
       "      <td>1050.0</td>\n",
       "      <td>7.10</td>\n",
       "      <td>7.05</td>\n",
       "      <td>7.20</td>\n",
       "      <td>0.030000</td>\n",
       "      <td>0.424324</td>\n",
       "      <td>35.0</td>\n",
       "      <td>2376</td>\n",
       "      <td>0.602940</td>\n",
       "      <td>False</td>\n",
       "      <td>REGULAR</td>\n",
       "      <td>USD</td>\n",
       "    </tr>\n",
       "    <tr>\n",
       "      <th>292</th>\n",
       "      <td>TSLA210618C00950000</td>\n",
       "      <td>2021-04-21 19:26:05</td>\n",
       "      <td>950.0</td>\n",
       "      <td>14.30</td>\n",
       "      <td>13.80</td>\n",
       "      <td>14.40</td>\n",
       "      <td>0.700000</td>\n",
       "      <td>5.147057</td>\n",
       "      <td>119.0</td>\n",
       "      <td>6972</td>\n",
       "      <td>0.578465</td>\n",
       "      <td>False</td>\n",
       "      <td>REGULAR</td>\n",
       "      <td>USD</td>\n",
       "    </tr>\n",
       "    <tr>\n",
       "      <th>277</th>\n",
       "      <td>TSLA210618C00800000</td>\n",
       "      <td>2021-04-21 19:25:48</td>\n",
       "      <td>800.0</td>\n",
       "      <td>46.10</td>\n",
       "      <td>46.10</td>\n",
       "      <td>46.35</td>\n",
       "      <td>4.399998</td>\n",
       "      <td>10.551553</td>\n",
       "      <td>1628.0</td>\n",
       "      <td>29251</td>\n",
       "      <td>0.585301</td>\n",
       "      <td>False</td>\n",
       "      <td>REGULAR</td>\n",
       "      <td>USD</td>\n",
       "    </tr>\n",
       "    <tr>\n",
       "      <th>257</th>\n",
       "      <td>TSLA210618C00600000</td>\n",
       "      <td>2021-04-21 19:25:47</td>\n",
       "      <td>600.0</td>\n",
       "      <td>159.49</td>\n",
       "      <td>158.45</td>\n",
       "      <td>159.45</td>\n",
       "      <td>12.940002</td>\n",
       "      <td>8.829752</td>\n",
       "      <td>50.0</td>\n",
       "      <td>12954</td>\n",
       "      <td>0.621037</td>\n",
       "      <td>True</td>\n",
       "      <td>REGULAR</td>\n",
       "      <td>USD</td>\n",
       "    </tr>\n",
       "    <tr>\n",
       "      <th>...</th>\n",
       "      <td>...</td>\n",
       "      <td>...</td>\n",
       "      <td>...</td>\n",
       "      <td>...</td>\n",
       "      <td>...</td>\n",
       "      <td>...</td>\n",
       "      <td>...</td>\n",
       "      <td>...</td>\n",
       "      <td>...</td>\n",
       "      <td>...</td>\n",
       "      <td>...</td>\n",
       "      <td>...</td>\n",
       "      <td>...</td>\n",
       "      <td>...</td>\n",
       "    </tr>\n",
       "    <tr>\n",
       "      <th>113</th>\n",
       "      <td>TSLA210618C00145000</td>\n",
       "      <td>2020-07-09 20:54:22</td>\n",
       "      <td>145.0</td>\n",
       "      <td>385.00</td>\n",
       "      <td>0.00</td>\n",
       "      <td>0.00</td>\n",
       "      <td>0.000000</td>\n",
       "      <td>0.000000</td>\n",
       "      <td>2.0</td>\n",
       "      <td>2</td>\n",
       "      <td>0.000010</td>\n",
       "      <td>True</td>\n",
       "      <td>REGULAR</td>\n",
       "      <td>USD</td>\n",
       "    </tr>\n",
       "    <tr>\n",
       "      <th>107</th>\n",
       "      <td>TSLA210618C00135000</td>\n",
       "      <td>2020-07-09 20:54:21</td>\n",
       "      <td>135.0</td>\n",
       "      <td>827.75</td>\n",
       "      <td>0.00</td>\n",
       "      <td>0.00</td>\n",
       "      <td>0.000000</td>\n",
       "      <td>0.000000</td>\n",
       "      <td>1.0</td>\n",
       "      <td>5</td>\n",
       "      <td>0.000010</td>\n",
       "      <td>True</td>\n",
       "      <td>REGULAR</td>\n",
       "      <td>USD</td>\n",
       "    </tr>\n",
       "    <tr>\n",
       "      <th>101</th>\n",
       "      <td>TSLA210618C00125000</td>\n",
       "      <td>2020-07-09 20:54:20</td>\n",
       "      <td>125.0</td>\n",
       "      <td>406.85</td>\n",
       "      <td>0.00</td>\n",
       "      <td>0.00</td>\n",
       "      <td>0.000000</td>\n",
       "      <td>0.000000</td>\n",
       "      <td>10.0</td>\n",
       "      <td>11</td>\n",
       "      <td>0.000010</td>\n",
       "      <td>True</td>\n",
       "      <td>REGULAR</td>\n",
       "      <td>USD</td>\n",
       "    </tr>\n",
       "    <tr>\n",
       "      <th>95</th>\n",
       "      <td>TSLA210618C00115000</td>\n",
       "      <td>2020-07-09 20:54:19</td>\n",
       "      <td>115.0</td>\n",
       "      <td>658.40</td>\n",
       "      <td>0.00</td>\n",
       "      <td>0.00</td>\n",
       "      <td>0.000000</td>\n",
       "      <td>0.000000</td>\n",
       "      <td>1.0</td>\n",
       "      <td>2</td>\n",
       "      <td>0.000010</td>\n",
       "      <td>True</td>\n",
       "      <td>REGULAR</td>\n",
       "      <td>USD</td>\n",
       "    </tr>\n",
       "    <tr>\n",
       "      <th>301</th>\n",
       "      <td>TSLA210618C01015000</td>\n",
       "      <td>2020-06-25 15:56:01</td>\n",
       "      <td>1015.0</td>\n",
       "      <td>219.00</td>\n",
       "      <td>557.00</td>\n",
       "      <td>575.50</td>\n",
       "      <td>0.000000</td>\n",
       "      <td>0.000000</td>\n",
       "      <td>1.0</td>\n",
       "      <td>76</td>\n",
       "      <td>6.348208</td>\n",
       "      <td>False</td>\n",
       "      <td>REGULAR</td>\n",
       "      <td>USD</td>\n",
       "    </tr>\n",
       "  </tbody>\n",
       "</table>\n",
       "<p>414 rows × 14 columns</p>\n",
       "</div>"
      ],
      "text/plain": [
       "          contractSymbol       lastTradeDate  strike  lastPrice     bid  \\\n",
       "282  TSLA210618C00850000 2021-04-21 19:26:20   850.0      31.30   31.20   \n",
       "305  TSLA210618C01050000 2021-04-21 19:26:06  1050.0       7.10    7.05   \n",
       "292  TSLA210618C00950000 2021-04-21 19:26:05   950.0      14.30   13.80   \n",
       "277  TSLA210618C00800000 2021-04-21 19:25:48   800.0      46.10   46.10   \n",
       "257  TSLA210618C00600000 2021-04-21 19:25:47   600.0     159.49  158.45   \n",
       "..                   ...                 ...     ...        ...     ...   \n",
       "113  TSLA210618C00145000 2020-07-09 20:54:22   145.0     385.00    0.00   \n",
       "107  TSLA210618C00135000 2020-07-09 20:54:21   135.0     827.75    0.00   \n",
       "101  TSLA210618C00125000 2020-07-09 20:54:20   125.0     406.85    0.00   \n",
       "95   TSLA210618C00115000 2020-07-09 20:54:19   115.0     658.40    0.00   \n",
       "301  TSLA210618C01015000 2020-06-25 15:56:01  1015.0     219.00  557.00   \n",
       "\n",
       "        ask     change  percentChange  volume  openInterest  \\\n",
       "282   31.60   2.759998       9.670631   245.0         24687   \n",
       "305    7.20   0.030000       0.424324    35.0          2376   \n",
       "292   14.40   0.700000       5.147057   119.0          6972   \n",
       "277   46.35   4.399998      10.551553  1628.0         29251   \n",
       "257  159.45  12.940002       8.829752    50.0         12954   \n",
       "..      ...        ...            ...     ...           ...   \n",
       "113    0.00   0.000000       0.000000     2.0             2   \n",
       "107    0.00   0.000000       0.000000     1.0             5   \n",
       "101    0.00   0.000000       0.000000    10.0            11   \n",
       "95     0.00   0.000000       0.000000     1.0             2   \n",
       "301  575.50   0.000000       0.000000     1.0            76   \n",
       "\n",
       "     impliedVolatility  inTheMoney contractSize currency  \n",
       "282           0.578831       False      REGULAR      USD  \n",
       "305           0.602940       False      REGULAR      USD  \n",
       "292           0.578465       False      REGULAR      USD  \n",
       "277           0.585301       False      REGULAR      USD  \n",
       "257           0.621037        True      REGULAR      USD  \n",
       "..                 ...         ...          ...      ...  \n",
       "113           0.000010        True      REGULAR      USD  \n",
       "107           0.000010        True      REGULAR      USD  \n",
       "101           0.000010        True      REGULAR      USD  \n",
       "95            0.000010        True      REGULAR      USD  \n",
       "301           6.348208       False      REGULAR      USD  \n",
       "\n",
       "[414 rows x 14 columns]"
      ]
     },
     "execution_count": 15,
     "metadata": {},
     "output_type": "execute_result"
    }
   ],
   "source": [
    "calls = tsla_option_chain.calls\n",
    "calls.sort_values('lastTradeDate', ascending=False, inplace=True)\n",
    "calls"
   ]
  },
  {
   "cell_type": "code",
   "execution_count": 16,
   "id": "presidential-daisy",
   "metadata": {},
   "outputs": [
    {
     "data": {
      "text/plain": [
       "contractSymbol       TSLA210618C00850000\n",
       "lastTradeDate        2021-04-21 19:26:20\n",
       "strike                             850.0\n",
       "lastPrice                           31.3\n",
       "bid                                 31.2\n",
       "ask                                 31.6\n",
       "change                          2.759998\n",
       "percentChange                   9.670631\n",
       "volume                             245.0\n",
       "openInterest                       24687\n",
       "impliedVolatility               0.578831\n",
       "inTheMoney                         False\n",
       "contractSize                     REGULAR\n",
       "currency                             USD\n",
       "Name: 282, dtype: object"
      ]
     },
     "execution_count": 16,
     "metadata": {},
     "output_type": "execute_result"
    }
   ],
   "source": [
    "tsla_most_recent_call = calls.iloc[0]\n",
    "tsla_most_recent_call"
   ]
  },
  {
   "cell_type": "code",
   "execution_count": 53,
   "id": "centered-robin",
   "metadata": {},
   "outputs": [
    {
     "data": {
      "text/plain": [
       "850.0"
      ]
     },
     "execution_count": 53,
     "metadata": {},
     "output_type": "execute_result"
    }
   ],
   "source": [
    "tsla_most_recent_call_bid = tsla_most_recent_call['bid']\n",
    "tsla_most_recent_call_bid\n",
    "tsla_most_recent_strike = tsla_most_recent_call['strike']\n",
    "tsla_most_recent_strike"
   ]
  },
  {
   "cell_type": "code",
   "execution_count": 18,
   "id": "civic-sharing",
   "metadata": {},
   "outputs": [],
   "source": [
    "mod = ar_select_order(tsla_history_close, maxlag=30, old_names=True)"
   ]
  },
  {
   "cell_type": "code",
   "execution_count": 19,
   "id": "supreme-johnston",
   "metadata": {},
   "outputs": [
    {
     "data": {
      "text/html": [
       "<table class=\"simpletable\">\n",
       "<caption>AutoReg Model Results</caption>\n",
       "<tr>\n",
       "  <th>Dep. Variable:</th>       <td>Close</td>      <th>  No. Observations:  </th>   <td>2816</td>   \n",
       "</tr>\n",
       "<tr>\n",
       "  <th>Model:</th>            <td>AutoReg(30)</td>   <th>  Log Likelihood     </th> <td>-9237.250</td>\n",
       "</tr>\n",
       "<tr>\n",
       "  <th>Method:</th>         <td>Conditional MLE</td> <th>  S.D. of innovations</th>   <td>6.664</td>  \n",
       "</tr>\n",
       "<tr>\n",
       "  <th>Date:</th>          <td>Wed, 21 Apr 2021</td> <th>  AIC                </th>   <td>3.816</td>  \n",
       "</tr>\n",
       "<tr>\n",
       "  <th>Time:</th>              <td>15:41:53</td>     <th>  BIC                </th>   <td>3.884</td>  \n",
       "</tr>\n",
       "<tr>\n",
       "  <th>Sample:</th>           <td>08-10-2010</td>    <th>  HQIC               </th>   <td>3.841</td>  \n",
       "</tr>\n",
       "<tr>\n",
       "  <th></th>                 <td>- 04-13-2021</td>   <th>                     </th>     <td> </td>    \n",
       "</tr>\n",
       "</table>\n",
       "<table class=\"simpletable\">\n",
       "<tr>\n",
       "      <td></td>         <th>coef</th>     <th>std err</th>      <th>z</th>      <th>P>|z|</th>  <th>[0.025</th>    <th>0.975]</th>  \n",
       "</tr>\n",
       "<tr>\n",
       "  <th>intercept</th> <td>    0.0393</td> <td>    0.145</td> <td>    0.272</td> <td> 0.786</td> <td>   -0.244</td> <td>    0.323</td>\n",
       "</tr>\n",
       "<tr>\n",
       "  <th>Close.L1</th>  <td>    0.9356</td> <td>    0.019</td> <td>   49.280</td> <td> 0.000</td> <td>    0.898</td> <td>    0.973</td>\n",
       "</tr>\n",
       "<tr>\n",
       "  <th>Close.L2</th>  <td>    0.0239</td> <td>    0.026</td> <td>    0.924</td> <td> 0.355</td> <td>   -0.027</td> <td>    0.075</td>\n",
       "</tr>\n",
       "<tr>\n",
       "  <th>Close.L3</th>  <td>    0.1285</td> <td>    0.026</td> <td>    4.951</td> <td> 0.000</td> <td>    0.078</td> <td>    0.179</td>\n",
       "</tr>\n",
       "<tr>\n",
       "  <th>Close.L4</th>  <td>    0.0006</td> <td>    0.026</td> <td>    0.022</td> <td> 0.983</td> <td>   -0.051</td> <td>    0.052</td>\n",
       "</tr>\n",
       "<tr>\n",
       "  <th>Close.L5</th>  <td>   -0.1791</td> <td>    0.026</td> <td>   -6.866</td> <td> 0.000</td> <td>   -0.230</td> <td>   -0.128</td>\n",
       "</tr>\n",
       "<tr>\n",
       "  <th>Close.L6</th>  <td>    0.0810</td> <td>    0.026</td> <td>    3.087</td> <td> 0.002</td> <td>    0.030</td> <td>    0.132</td>\n",
       "</tr>\n",
       "<tr>\n",
       "  <th>Close.L7</th>  <td>   -0.0250</td> <td>    0.026</td> <td>   -0.955</td> <td> 0.339</td> <td>   -0.076</td> <td>    0.026</td>\n",
       "</tr>\n",
       "<tr>\n",
       "  <th>Close.L8</th>  <td>    0.0564</td> <td>    0.026</td> <td>    2.145</td> <td> 0.032</td> <td>    0.005</td> <td>    0.108</td>\n",
       "</tr>\n",
       "<tr>\n",
       "  <th>Close.L9</th>  <td>    0.1464</td> <td>    0.026</td> <td>    5.571</td> <td> 0.000</td> <td>    0.095</td> <td>    0.198</td>\n",
       "</tr>\n",
       "<tr>\n",
       "  <th>Close.L10</th> <td>   -0.0862</td> <td>    0.026</td> <td>   -3.255</td> <td> 0.001</td> <td>   -0.138</td> <td>   -0.034</td>\n",
       "</tr>\n",
       "<tr>\n",
       "  <th>Close.L11</th> <td>   -0.0721</td> <td>    0.027</td> <td>   -2.718</td> <td> 0.007</td> <td>   -0.124</td> <td>   -0.020</td>\n",
       "</tr>\n",
       "<tr>\n",
       "  <th>Close.L12</th> <td>   -0.0170</td> <td>    0.026</td> <td>   -0.645</td> <td> 0.519</td> <td>   -0.069</td> <td>    0.035</td>\n",
       "</tr>\n",
       "<tr>\n",
       "  <th>Close.L13</th> <td>   -0.0877</td> <td>    0.026</td> <td>   -3.326</td> <td> 0.001</td> <td>   -0.139</td> <td>   -0.036</td>\n",
       "</tr>\n",
       "<tr>\n",
       "  <th>Close.L14</th> <td>    0.0949</td> <td>    0.026</td> <td>    3.598</td> <td> 0.000</td> <td>    0.043</td> <td>    0.147</td>\n",
       "</tr>\n",
       "<tr>\n",
       "  <th>Close.L15</th> <td>    0.0359</td> <td>    0.026</td> <td>    1.357</td> <td> 0.175</td> <td>   -0.016</td> <td>    0.088</td>\n",
       "</tr>\n",
       "<tr>\n",
       "  <th>Close.L16</th> <td>   -0.0546</td> <td>    0.026</td> <td>   -2.065</td> <td> 0.039</td> <td>   -0.106</td> <td>   -0.003</td>\n",
       "</tr>\n",
       "<tr>\n",
       "  <th>Close.L17</th> <td>    0.0433</td> <td>    0.026</td> <td>    1.635</td> <td> 0.102</td> <td>   -0.009</td> <td>    0.095</td>\n",
       "</tr>\n",
       "<tr>\n",
       "  <th>Close.L18</th> <td>    0.0490</td> <td>    0.026</td> <td>    1.854</td> <td> 0.064</td> <td>   -0.003</td> <td>    0.101</td>\n",
       "</tr>\n",
       "<tr>\n",
       "  <th>Close.L19</th> <td>   -0.1272</td> <td>    0.027</td> <td>   -4.786</td> <td> 0.000</td> <td>   -0.179</td> <td>   -0.075</td>\n",
       "</tr>\n",
       "<tr>\n",
       "  <th>Close.L20</th> <td>-3.261e-06</td> <td>    0.027</td> <td>   -0.000</td> <td> 1.000</td> <td>   -0.053</td> <td>    0.053</td>\n",
       "</tr>\n",
       "<tr>\n",
       "  <th>Close.L21</th> <td>    0.0211</td> <td>    0.027</td> <td>    0.777</td> <td> 0.437</td> <td>   -0.032</td> <td>    0.074</td>\n",
       "</tr>\n",
       "<tr>\n",
       "  <th>Close.L22</th> <td>    0.1031</td> <td>    0.027</td> <td>    3.818</td> <td> 0.000</td> <td>    0.050</td> <td>    0.156</td>\n",
       "</tr>\n",
       "<tr>\n",
       "  <th>Close.L23</th> <td>    0.0003</td> <td>    0.027</td> <td>    0.012</td> <td> 0.990</td> <td>   -0.053</td> <td>    0.053</td>\n",
       "</tr>\n",
       "<tr>\n",
       "  <th>Close.L24</th> <td>   -0.1167</td> <td>    0.027</td> <td>   -4.282</td> <td> 0.000</td> <td>   -0.170</td> <td>   -0.063</td>\n",
       "</tr>\n",
       "<tr>\n",
       "  <th>Close.L25</th> <td>    0.1466</td> <td>    0.027</td> <td>    5.350</td> <td> 0.000</td> <td>    0.093</td> <td>    0.200</td>\n",
       "</tr>\n",
       "<tr>\n",
       "  <th>Close.L26</th> <td>   -0.0887</td> <td>    0.028</td> <td>   -3.133</td> <td> 0.002</td> <td>   -0.144</td> <td>   -0.033</td>\n",
       "</tr>\n",
       "<tr>\n",
       "  <th>Close.L27</th> <td>   -0.0817</td> <td>    0.030</td> <td>   -2.732</td> <td> 0.006</td> <td>   -0.140</td> <td>   -0.023</td>\n",
       "</tr>\n",
       "<tr>\n",
       "  <th>Close.L28</th> <td>    0.0600</td> <td>    0.030</td> <td>    2.033</td> <td> 0.042</td> <td>    0.002</td> <td>    0.118</td>\n",
       "</tr>\n",
       "<tr>\n",
       "  <th>Close.L29</th> <td>   -0.1261</td> <td>    0.030</td> <td>   -4.253</td> <td> 0.000</td> <td>   -0.184</td> <td>   -0.068</td>\n",
       "</tr>\n",
       "<tr>\n",
       "  <th>Close.L30</th> <td>    0.1385</td> <td>    0.022</td> <td>    6.441</td> <td> 0.000</td> <td>    0.096</td> <td>    0.181</td>\n",
       "</tr>\n",
       "</table>\n",
       "<table class=\"simpletable\">\n",
       "<caption>Roots</caption>\n",
       "<tr>\n",
       "    <td></td>    <th>            Real</th>  <th>         Imaginary</th> <th>         Modulus</th>  <th>        Frequency</th>\n",
       "</tr>\n",
       "<tr>\n",
       "  <th>AR.1</th>  <td>          -1.0687</td> <td>          -0.0000j</td> <td>           1.0687</td> <td>          -0.5000</td>\n",
       "</tr>\n",
       "<tr>\n",
       "  <th>AR.2</th>  <td>          -1.0579</td> <td>          -0.2186j</td> <td>           1.0803</td> <td>          -0.4676</td>\n",
       "</tr>\n",
       "<tr>\n",
       "  <th>AR.3</th>  <td>          -1.0579</td> <td>          +0.2186j</td> <td>           1.0803</td> <td>           0.4676</td>\n",
       "</tr>\n",
       "<tr>\n",
       "  <th>AR.4</th>  <td>          -0.9673</td> <td>          -0.4226j</td> <td>           1.0555</td> <td>          -0.4344</td>\n",
       "</tr>\n",
       "<tr>\n",
       "  <th>AR.5</th>  <td>          -0.9673</td> <td>          +0.4226j</td> <td>           1.0555</td> <td>           0.4344</td>\n",
       "</tr>\n",
       "<tr>\n",
       "  <th>AR.6</th>  <td>          -0.8352</td> <td>          -0.6323j</td> <td>           1.0476</td> <td>          -0.3969</td>\n",
       "</tr>\n",
       "<tr>\n",
       "  <th>AR.7</th>  <td>          -0.8352</td> <td>          +0.6323j</td> <td>           1.0476</td> <td>           0.3969</td>\n",
       "</tr>\n",
       "<tr>\n",
       "  <th>AR.8</th>  <td>          -0.6409</td> <td>          -0.8344j</td> <td>           1.0521</td> <td>          -0.3542</td>\n",
       "</tr>\n",
       "<tr>\n",
       "  <th>AR.9</th>  <td>          -0.6409</td> <td>          +0.8344j</td> <td>           1.0521</td> <td>           0.3542</td>\n",
       "</tr>\n",
       "<tr>\n",
       "  <th>AR.10</th> <td>          -0.4662</td> <td>          -0.9398j</td> <td>           1.0491</td> <td>          -0.3233</td>\n",
       "</tr>\n",
       "<tr>\n",
       "  <th>AR.11</th> <td>          -0.4662</td> <td>          +0.9398j</td> <td>           1.0491</td> <td>           0.3233</td>\n",
       "</tr>\n",
       "<tr>\n",
       "  <th>AR.12</th> <td>          -0.1715</td> <td>          -1.0704j</td> <td>           1.0840</td> <td>          -0.2753</td>\n",
       "</tr>\n",
       "<tr>\n",
       "  <th>AR.13</th> <td>          -0.1715</td> <td>          +1.0704j</td> <td>           1.0840</td> <td>           0.2753</td>\n",
       "</tr>\n",
       "<tr>\n",
       "  <th>AR.14</th> <td>          -0.2103</td> <td>          -1.1510j</td> <td>           1.1701</td> <td>          -0.2788</td>\n",
       "</tr>\n",
       "<tr>\n",
       "  <th>AR.15</th> <td>          -0.2103</td> <td>          +1.1510j</td> <td>           1.1701</td> <td>           0.2788</td>\n",
       "</tr>\n",
       "<tr>\n",
       "  <th>AR.16</th> <td>           0.1481</td> <td>          -1.0372j</td> <td>           1.0477</td> <td>          -0.2274</td>\n",
       "</tr>\n",
       "<tr>\n",
       "  <th>AR.17</th> <td>           0.1481</td> <td>          +1.0372j</td> <td>           1.0477</td> <td>           0.2274</td>\n",
       "</tr>\n",
       "<tr>\n",
       "  <th>AR.18</th> <td>           0.3783</td> <td>          -1.0140j</td> <td>           1.0823</td> <td>          -0.1932</td>\n",
       "</tr>\n",
       "<tr>\n",
       "  <th>AR.19</th> <td>           0.3783</td> <td>          +1.0140j</td> <td>           1.0823</td> <td>           0.1932</td>\n",
       "</tr>\n",
       "<tr>\n",
       "  <th>AR.20</th> <td>           0.5857</td> <td>          -0.9378j</td> <td>           1.1057</td> <td>          -0.1611</td>\n",
       "</tr>\n",
       "<tr>\n",
       "  <th>AR.21</th> <td>           0.5857</td> <td>          +0.9378j</td> <td>           1.1057</td> <td>           0.1611</td>\n",
       "</tr>\n",
       "<tr>\n",
       "  <th>AR.22</th> <td>           0.7501</td> <td>          -0.7107j</td> <td>           1.0333</td> <td>          -0.1207</td>\n",
       "</tr>\n",
       "<tr>\n",
       "  <th>AR.23</th> <td>           0.7501</td> <td>          +0.7107j</td> <td>           1.0333</td> <td>           0.1207</td>\n",
       "</tr>\n",
       "<tr>\n",
       "  <th>AR.24</th> <td>           0.8943</td> <td>          -0.5489j</td> <td>           1.0493</td> <td>          -0.0876</td>\n",
       "</tr>\n",
       "<tr>\n",
       "  <th>AR.25</th> <td>           0.8943</td> <td>          +0.5489j</td> <td>           1.0493</td> <td>           0.0876</td>\n",
       "</tr>\n",
       "<tr>\n",
       "  <th>AR.26</th> <td>           1.0201</td> <td>          -0.3274j</td> <td>           1.0714</td> <td>          -0.0494</td>\n",
       "</tr>\n",
       "<tr>\n",
       "  <th>AR.27</th> <td>           1.0201</td> <td>          +0.3274j</td> <td>           1.0714</td> <td>           0.0494</td>\n",
       "</tr>\n",
       "<tr>\n",
       "  <th>AR.28</th> <td>           0.9971</td> <td>          -0.0000j</td> <td>           0.9971</td> <td>          -0.0000</td>\n",
       "</tr>\n",
       "<tr>\n",
       "  <th>AR.29</th> <td>           1.0637</td> <td>          -0.1015j</td> <td>           1.0686</td> <td>          -0.0151</td>\n",
       "</tr>\n",
       "<tr>\n",
       "  <th>AR.30</th> <td>           1.0637</td> <td>          +0.1015j</td> <td>           1.0686</td> <td>           0.0151</td>\n",
       "</tr>\n",
       "</table>"
      ],
      "text/plain": [
       "<class 'statsmodels.iolib.summary.Summary'>\n",
       "\"\"\"\n",
       "                            AutoReg Model Results                             \n",
       "==============================================================================\n",
       "Dep. Variable:                  Close   No. Observations:                 2816\n",
       "Model:                    AutoReg(30)   Log Likelihood               -9237.250\n",
       "Method:               Conditional MLE   S.D. of innovations              6.664\n",
       "Date:                Wed, 21 Apr 2021   AIC                              3.816\n",
       "Time:                        15:41:53   BIC                              3.884\n",
       "Sample:                    08-10-2010   HQIC                             3.841\n",
       "                         - 04-13-2021                                         \n",
       "==============================================================================\n",
       "                 coef    std err          z      P>|z|      [0.025      0.975]\n",
       "------------------------------------------------------------------------------\n",
       "intercept      0.0393      0.145      0.272      0.786      -0.244       0.323\n",
       "Close.L1       0.9356      0.019     49.280      0.000       0.898       0.973\n",
       "Close.L2       0.0239      0.026      0.924      0.355      -0.027       0.075\n",
       "Close.L3       0.1285      0.026      4.951      0.000       0.078       0.179\n",
       "Close.L4       0.0006      0.026      0.022      0.983      -0.051       0.052\n",
       "Close.L5      -0.1791      0.026     -6.866      0.000      -0.230      -0.128\n",
       "Close.L6       0.0810      0.026      3.087      0.002       0.030       0.132\n",
       "Close.L7      -0.0250      0.026     -0.955      0.339      -0.076       0.026\n",
       "Close.L8       0.0564      0.026      2.145      0.032       0.005       0.108\n",
       "Close.L9       0.1464      0.026      5.571      0.000       0.095       0.198\n",
       "Close.L10     -0.0862      0.026     -3.255      0.001      -0.138      -0.034\n",
       "Close.L11     -0.0721      0.027     -2.718      0.007      -0.124      -0.020\n",
       "Close.L12     -0.0170      0.026     -0.645      0.519      -0.069       0.035\n",
       "Close.L13     -0.0877      0.026     -3.326      0.001      -0.139      -0.036\n",
       "Close.L14      0.0949      0.026      3.598      0.000       0.043       0.147\n",
       "Close.L15      0.0359      0.026      1.357      0.175      -0.016       0.088\n",
       "Close.L16     -0.0546      0.026     -2.065      0.039      -0.106      -0.003\n",
       "Close.L17      0.0433      0.026      1.635      0.102      -0.009       0.095\n",
       "Close.L18      0.0490      0.026      1.854      0.064      -0.003       0.101\n",
       "Close.L19     -0.1272      0.027     -4.786      0.000      -0.179      -0.075\n",
       "Close.L20  -3.261e-06      0.027     -0.000      1.000      -0.053       0.053\n",
       "Close.L21      0.0211      0.027      0.777      0.437      -0.032       0.074\n",
       "Close.L22      0.1031      0.027      3.818      0.000       0.050       0.156\n",
       "Close.L23      0.0003      0.027      0.012      0.990      -0.053       0.053\n",
       "Close.L24     -0.1167      0.027     -4.282      0.000      -0.170      -0.063\n",
       "Close.L25      0.1466      0.027      5.350      0.000       0.093       0.200\n",
       "Close.L26     -0.0887      0.028     -3.133      0.002      -0.144      -0.033\n",
       "Close.L27     -0.0817      0.030     -2.732      0.006      -0.140      -0.023\n",
       "Close.L28      0.0600      0.030      2.033      0.042       0.002       0.118\n",
       "Close.L29     -0.1261      0.030     -4.253      0.000      -0.184      -0.068\n",
       "Close.L30      0.1385      0.022      6.441      0.000       0.096       0.181\n",
       "                                    Roots                                     \n",
       "==============================================================================\n",
       "                   Real          Imaginary           Modulus         Frequency\n",
       "------------------------------------------------------------------------------\n",
       "AR.1            -1.0687           -0.0000j            1.0687           -0.5000\n",
       "AR.2            -1.0579           -0.2186j            1.0803           -0.4676\n",
       "AR.3            -1.0579           +0.2186j            1.0803            0.4676\n",
       "AR.4            -0.9673           -0.4226j            1.0555           -0.4344\n",
       "AR.5            -0.9673           +0.4226j            1.0555            0.4344\n",
       "AR.6            -0.8352           -0.6323j            1.0476           -0.3969\n",
       "AR.7            -0.8352           +0.6323j            1.0476            0.3969\n",
       "AR.8            -0.6409           -0.8344j            1.0521           -0.3542\n",
       "AR.9            -0.6409           +0.8344j            1.0521            0.3542\n",
       "AR.10           -0.4662           -0.9398j            1.0491           -0.3233\n",
       "AR.11           -0.4662           +0.9398j            1.0491            0.3233\n",
       "AR.12           -0.1715           -1.0704j            1.0840           -0.2753\n",
       "AR.13           -0.1715           +1.0704j            1.0840            0.2753\n",
       "AR.14           -0.2103           -1.1510j            1.1701           -0.2788\n",
       "AR.15           -0.2103           +1.1510j            1.1701            0.2788\n",
       "AR.16            0.1481           -1.0372j            1.0477           -0.2274\n",
       "AR.17            0.1481           +1.0372j            1.0477            0.2274\n",
       "AR.18            0.3783           -1.0140j            1.0823           -0.1932\n",
       "AR.19            0.3783           +1.0140j            1.0823            0.1932\n",
       "AR.20            0.5857           -0.9378j            1.1057           -0.1611\n",
       "AR.21            0.5857           +0.9378j            1.1057            0.1611\n",
       "AR.22            0.7501           -0.7107j            1.0333           -0.1207\n",
       "AR.23            0.7501           +0.7107j            1.0333            0.1207\n",
       "AR.24            0.8943           -0.5489j            1.0493           -0.0876\n",
       "AR.25            0.8943           +0.5489j            1.0493            0.0876\n",
       "AR.26            1.0201           -0.3274j            1.0714           -0.0494\n",
       "AR.27            1.0201           +0.3274j            1.0714            0.0494\n",
       "AR.28            0.9971           -0.0000j            0.9971           -0.0000\n",
       "AR.29            1.0637           -0.1015j            1.0686           -0.0151\n",
       "AR.30            1.0637           +0.1015j            1.0686            0.0151\n",
       "------------------------------------------------------------------------------\n",
       "\"\"\""
      ]
     },
     "execution_count": 19,
     "metadata": {},
     "output_type": "execute_result"
    }
   ],
   "source": [
    "tsla_model = mod.model\n",
    "tsla_model_results = tsla_model.fit()\n",
    "tsla_model_results.summary()"
   ]
  },
  {
   "cell_type": "code",
   "execution_count": 80,
   "id": "undefined-weather",
   "metadata": {},
   "outputs": [
    {
     "data": {
      "text/plain": [
       "count    270.000000\n",
       "mean     453.062569\n",
       "std      230.649682\n",
       "min       90.893997\n",
       "25%      249.592995\n",
       "50%      423.035004\n",
       "75%      661.750000\n",
       "max      883.090027\n",
       "Name: Close, dtype: float64"
      ]
     },
     "execution_count": 80,
     "metadata": {},
     "output_type": "execute_result"
    }
   ],
   "source": [
    "# DOC: Statistical moments of underlying\n",
    "tsla_history_close.loc['2020-04-01':].describe()"
   ]
  },
  {
   "cell_type": "code",
   "execution_count": 21,
   "id": "favorite-journalist",
   "metadata": {},
   "outputs": [
    {
     "data": {
      "text/plain": [
       "['__class__',\n",
       " '__delattr__',\n",
       " '__dict__',\n",
       " '__dir__',\n",
       " '__doc__',\n",
       " '__eq__',\n",
       " '__format__',\n",
       " '__ge__',\n",
       " '__getattribute__',\n",
       " '__gt__',\n",
       " '__hash__',\n",
       " '__init__',\n",
       " '__init_subclass__',\n",
       " '__le__',\n",
       " '__lt__',\n",
       " '__module__',\n",
       " '__ne__',\n",
       " '__new__',\n",
       " '__reduce__',\n",
       " '__reduce_ex__',\n",
       " '__repr__',\n",
       " '__setattr__',\n",
       " '__sizeof__',\n",
       " '__str__',\n",
       " '__subclasshook__',\n",
       " '__weakref__',\n",
       " '_ar_lags',\n",
       " '_cache',\n",
       " '_data_attr',\n",
       " '_data_in_cache',\n",
       " '_df_model',\n",
       " '_get_robustcov_results',\n",
       " '_hold_back',\n",
       " '_lag_repr',\n",
       " '_max_lag',\n",
       " '_n_totobs',\n",
       " '_nobs',\n",
       " '_params',\n",
       " '_use_t',\n",
       " 'aic',\n",
       " 'ar_lags',\n",
       " 'arfreq',\n",
       " 'bic',\n",
       " 'bse',\n",
       " 'conf_int',\n",
       " 'cov_params',\n",
       " 'cov_params_default',\n",
       " 'data',\n",
       " 'df_model',\n",
       " 'df_resid',\n",
       " 'diagnostic_summary',\n",
       " 'f_test',\n",
       " 'fittedvalues',\n",
       " 'forecast',\n",
       " 'fpe',\n",
       " 'get_prediction',\n",
       " 'hqic',\n",
       " 'initialize',\n",
       " 'llf',\n",
       " 'load',\n",
       " 'model',\n",
       " 'nobs',\n",
       " 'normalized_cov_params',\n",
       " 'params',\n",
       " 'plot_diagnostics',\n",
       " 'plot_predict',\n",
       " 'predict',\n",
       " 'pvalues',\n",
       " 'remove_data',\n",
       " 'resid',\n",
       " 'roots',\n",
       " 'save',\n",
       " 'scale',\n",
       " 'sigma2',\n",
       " 'summary',\n",
       " 't_test',\n",
       " 't_test_pairwise',\n",
       " 'test_heteroskedasticity',\n",
       " 'test_normality',\n",
       " 'test_serial_correlation',\n",
       " 'tvalues',\n",
       " 'use_t',\n",
       " 'wald_test',\n",
       " 'wald_test_terms']"
      ]
     },
     "execution_count": 21,
     "metadata": {},
     "output_type": "execute_result"
    }
   ],
   "source": [
    "dir(tsla_model_results)"
   ]
  },
  {
   "cell_type": "code",
   "execution_count": 22,
   "id": "expected-participant",
   "metadata": {},
   "outputs": [
    {
     "data": {
      "text/plain": [
       "2010-08-10    -0.078840\n",
       "2010-08-11    -0.261629\n",
       "2010-08-12    -0.275487\n",
       "2010-08-13     0.022285\n",
       "2010-08-16    -0.039871\n",
       "                ...    \n",
       "2021-04-07   -11.613840\n",
       "2021-04-08     9.784935\n",
       "2021-04-09    -9.878066\n",
       "2021-04-12    18.111835\n",
       "2021-04-13    39.235331\n",
       "Freq: B, Length: 2786, dtype: float64"
      ]
     },
     "execution_count": 22,
     "metadata": {},
     "output_type": "execute_result"
    }
   ],
   "source": [
    "tsla_model_results.resid"
   ]
  },
  {
   "cell_type": "code",
   "execution_count": 99,
   "id": "hearing-subdivision",
   "metadata": {},
   "outputs": [],
   "source": [
    "def covered_call_strategy(spot_at_expiration, spot_now, premium, \n",
    "                          strike):\n",
    "    \"\"\"\n",
    "    Implements a covered call strategy\n",
    "    \n",
    "    Parameters\n",
    "    ----------\n",
    "    spot_at_expiration: float\n",
    "        The spot price of the underlying at expiration\n",
    "    spot_now : float\n",
    "        The spot price of the underlying now\n",
    "    premium : float\n",
    "        The premium received for this option\n",
    "    strike : float\n",
    "        Strike price of the call option sold\n",
    "    \n",
    "    Return\n",
    "    ------\n",
    "    payoff : float\n",
    "        Payoff of the option\n",
    "    \"\"\"\n",
    "    # DOC: Calculate pure return from underlying\n",
    "    payoff_underlying = spot_at_expiration - spot_now\n",
    "    # DOC: Calculate pure return of selling option\n",
    "    if spot_at_expiration > strike:\n",
    "        payoff_call = premium - (spot_at_expiration - strike)\n",
    "    else:\n",
    "        payoff_call = premium \n",
    "    # DOC: Return total payoff\n",
    "    return payoff_underlying + payoff_call"
   ]
  },
  {
   "cell_type": "code",
   "execution_count": null,
   "id": "coordinate-actress",
   "metadata": {},
   "outputs": [],
   "source": [
    "# SEC: Begin sampling of errors, estimate model, generate forecast\n",
    "tsla_forecasts = {}\n",
    "tsla_payoffs = {}\n",
    "np.random.seed(100)\n",
    "for it in range(50):\n",
    "    error_sample = tsla_model_results.resid.sample(frac=1)\n",
    "    error_sample.index = tsla_history_close.index[-len(error_sample.index):]\n",
    "    tsla_new_sample = (tsla_history_close + error_sample).dropna()\n",
    "    new_tsla_ar_model = ar_select_order(\n",
    "        tsla_new_sample, \n",
    "        maxlag=30, \n",
    "        old_names=True\n",
    "    )\n",
    "    model = new_tsla_ar_model.model.fit()\n",
    "    new_forecast = model.predict(start='2021-04-14', end='2021-06-18')\n",
    "    tsla_forecasts[it] = pa.concat(\n",
    "        [\n",
    "            tsla_history_close.loc['2021-03-14':'2021-04-13'], \n",
    "            new_forecast\n",
    "        ], axis=0\n",
    "    )\n",
    "    tsla_payoffs[it] = covered_call_strategy(\n",
    "        spot_at_expiration=new_forecast.loc['2021-06-18'],\n",
    "        spot_now=tsla_history_close.loc['2021-04-13'],\n",
    "        premium=tsla_most_recent_call_bid,\n",
    "        strike=tsla_most_recent_strike\n",
    "        \n",
    "    )\n",
    "    print(it)\n",
    "    # print(tsla_history_close.tail())\n",
    "    # print(error_sample.tail())\n",
    "    # print(tsla_new_sample.head())\n",
    "    # if it > 10:\n",
    "    #    break"
   ]
  },
  {
   "cell_type": "code",
   "execution_count": 40,
   "id": "continental-growth",
   "metadata": {},
   "outputs": [
    {
     "data": {
      "text/plain": [
       "dict_keys([0, 1, 2, 3, 4, 5, 6, 7, 8, 9, 10, 11, 12, 13, 14, 15, 16, 17, 18, 19, 20, 21, 22, 23, 24, 25, 26, 27, 28, 29, 30, 31, 32, 33, 34, 35, 36, 37, 38, 39, 40, 41, 42, 43, 44, 45, 46, 47, 48, 49])"
      ]
     },
     "execution_count": 40,
     "metadata": {},
     "output_type": "execute_result"
    }
   ],
   "source": [
    "type(tsla_forecasts)\n",
    "tsla_forecasts.keys()"
   ]
  },
  {
   "cell_type": "code",
   "execution_count": 73,
   "id": "parliamentary-badge",
   "metadata": {},
   "outputs": [
    {
     "data": {
      "text/plain": [
       "count     50.000000\n",
       "mean     839.625332\n",
       "std       11.600423\n",
       "min      809.448706\n",
       "25%      837.071425\n",
       "50%      838.123147\n",
       "75%      838.826457\n",
       "max      905.033860\n",
       "Name: 2021-06-18 00:00:00, dtype: float64"
      ]
     },
     "execution_count": 73,
     "metadata": {},
     "output_type": "execute_result"
    }
   ],
   "source": [
    "# DOC: Get all simulations into a DF\n",
    "all_sims_df = pa.DataFrame(tsla_forecasts)\n",
    "all_sims_df.loc['2021-06-18'].describe()"
   ]
  },
  {
   "cell_type": "code",
   "execution_count": 72,
   "id": "minimal-stress",
   "metadata": {},
   "outputs": [
    {
     "data": {
      "text/plain": [
       "<AxesSubplot:>"
      ]
     },
     "execution_count": 72,
     "metadata": {},
     "output_type": "execute_result"
    },
    {
     "data": {
      "image/png": "[encoded data removed]",
      "text/plain": [
       "<Figure size 720x360 with 1 Axes>"
      ]
     },
     "metadata": {
      "needs_background": "light"
     },
     "output_type": "display_data"
    }
   ],
   "source": [
    "all_sims_df.plot(legend=False)"
   ]
  },
  {
   "cell_type": "code",
   "execution_count": 102,
   "id": "floral-simpson",
   "metadata": {},
   "outputs": [
    {
     "data": {
      "text/plain": [
       "<AxesSubplot:>"
      ]
     },
     "execution_count": 102,
     "metadata": {},
     "output_type": "execute_result"
    },
    {
     "data": {
      "image/png": "[encoded data removed]",
      "text/plain": [
       "<Figure size 720x360 with 1 Axes>"
      ]
     },
     "metadata": {
      "needs_background": "light"
     },
     "output_type": "display_data"
    }
   ],
   "source": [
    "# SEC: Covered call strategy testing\n",
    "current_price = 50\n",
    "prices_at_expiration = np.arange(35, 90)\n",
    "premium = 5\n",
    "strike = 55\n",
    "payoffs = pa.Series(prices_at_expiration, index=prices_at_expiration).apply(\n",
    "    covered_call_strategy, \n",
    "    args=(current_price, premium, strike)\n",
    ")\n",
    "payoffs.plot()"
   ]
  },
  {
   "cell_type": "code",
   "execution_count": 103,
   "id": "japanese-torture",
   "metadata": {},
   "outputs": [
    {
     "data": {
      "text/plain": [
       "<AxesSubplot:>"
      ]
     },
     "execution_count": 103,
     "metadata": {},
     "output_type": "execute_result"
    },
    {
     "data": {
      "image/png": "[encoded data removed]",
      "text/plain": [
       "<Figure size 720x360 with 1 Axes>"
      ]
     },
     "metadata": {
      "needs_background": "light"
     },
     "output_type": "display_data"
    }
   ],
   "source": [
    "# SEC: Covered call strategy testing (with actual values)\n",
    "current_price = tsla_history_close.loc['2021-04-13']\n",
    "prices_at_expiration = np.arange(600, 1000)\n",
    "premium = tsla_most_recent_call_bid\n",
    "strike = tsla_most_recent_strike\n",
    "payoffs = pa.Series(prices_at_expiration, index=prices_at_expiration).apply(\n",
    "    covered_call_strategy, \n",
    "    args=(current_price, premium, strike)\n",
    ")\n",
    "payoffs.plot()"
   ]
  },
  {
   "cell_type": "code",
   "execution_count": 89,
   "id": "brutal-appearance",
   "metadata": {},
   "outputs": [
    {
     "data": {
      "text/plain": [
       "count     11.000000\n",
       "mean      28.225756\n",
       "std      251.997700\n",
       "min     -731.120007\n",
       "25%      104.654909\n",
       "50%      107.294120\n",
       "75%      107.902749\n",
       "max      108.567122\n",
       "dtype: float64"
      ]
     },
     "execution_count": 89,
     "metadata": {},
     "output_type": "execute_result"
    }
   ],
   "source": [
    "cc_payoffs_series = pa.Series(tsla_payoffs)\n",
    "cc_payoffs_series.describe()"
   ]
  },
  {
   "cell_type": "code",
   "execution_count": 93,
   "id": "diverse-exercise",
   "metadata": {},
   "outputs": [
    {
     "data": {
      "text/plain": [
       "<AxesSubplot:>"
      ]
     },
     "execution_count": 93,
     "metadata": {},
     "output_type": "execute_result"
    },
    {
     "data": {
      "image/png": "[encoded data removed]",
      "text/plain": [
       "<Figure size 720x360 with 1 Axes>"
      ]
     },
     "metadata": {
      "needs_background": "light"
     },
     "output_type": "display_data"
    }
   ],
   "source": [
    "actual_underlying = tsla_forecasts[4]\n",
    "actual_underlying.plot()"
   ]
  },
  {
   "cell_type": "code",
   "execution_count": 95,
   "id": "proud-gambling",
   "metadata": {},
   "outputs": [
    {
     "data": {
      "text/plain": [
       "107.41496044930705"
      ]
     },
     "execution_count": 95,
     "metadata": {},
     "output_type": "execute_result"
    }
   ],
   "source": [
    "actual_payoff = tsla_payoffs[4]\n",
    "actual_payoff"
   ]
  }
 ],
 "metadata": {
  "kernelspec": {
   "display_name": "Python 3",
   "language": "python",
   "name": "python3"
  },
  "language_info": {
   "codemirror_mode": {
    "name": "ipython",
    "version": 3
   },
   "file_extension": ".py",
   "mimetype": "text/x-python",
   "name": "python",
   "nbconvert_exporter": "python",
   "pygments_lexer": "ipython3",
   "version": "3.8.5"
  }
 },
 "nbformat": 4,
 "nbformat_minor": 5
}

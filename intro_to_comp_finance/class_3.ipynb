{
 "cells": [
  {
   "cell_type": "code",
   "execution_count": 1,
   "id": "plastic-toner",
   "metadata": {},
   "outputs": [
    {
     "data": {
      "text/plain": [
       "3"
      ]
     },
     "execution_count": 1,
     "metadata": {},
     "output_type": "execute_result"
    }
   ],
   "source": [
    "3"
   ]
  },
  {
   "cell_type": "code",
   "execution_count": 2,
   "id": "blond-witness",
   "metadata": {},
   "outputs": [
    {
     "data": {
      "text/plain": [
       "int"
      ]
     },
     "execution_count": 2,
     "metadata": {},
     "output_type": "execute_result"
    }
   ],
   "source": [
    "type(3)"
   ]
  },
  {
   "cell_type": "code",
   "execution_count": 3,
   "id": "million-burst",
   "metadata": {},
   "outputs": [
    {
     "data": {
      "text/plain": [
       "3.0"
      ]
     },
     "execution_count": 3,
     "metadata": {},
     "output_type": "execute_result"
    }
   ],
   "source": [
    "3.0"
   ]
  },
  {
   "cell_type": "code",
   "execution_count": 4,
   "id": "opponent-acceptance",
   "metadata": {},
   "outputs": [
    {
     "data": {
      "text/plain": [
       "float"
      ]
     },
     "execution_count": 4,
     "metadata": {},
     "output_type": "execute_result"
    }
   ],
   "source": [
    "type(3.0)"
   ]
  },
  {
   "cell_type": "code",
   "execution_count": 5,
   "id": "willing-medicaid",
   "metadata": {},
   "outputs": [
    {
     "data": {
      "text/plain": [
       "'my_string'"
      ]
     },
     "execution_count": 5,
     "metadata": {},
     "output_type": "execute_result"
    }
   ],
   "source": [
    "\"my_string\""
   ]
  },
  {
   "cell_type": "code",
   "execution_count": 6,
   "id": "bigger-termination",
   "metadata": {},
   "outputs": [
    {
     "data": {
      "text/plain": [
       "str"
      ]
     },
     "execution_count": 6,
     "metadata": {},
     "output_type": "execute_result"
    }
   ],
   "source": [
    "type(\"my_string\")"
   ]
  },
  {
   "cell_type": "code",
   "execution_count": 7,
   "id": "accomplished-bangladesh",
   "metadata": {},
   "outputs": [],
   "source": [
    "my_name = \"Barton Baker\""
   ]
  },
  {
   "cell_type": "code",
   "execution_count": 8,
   "id": "spanish-sword",
   "metadata": {},
   "outputs": [
    {
     "name": "stdout",
     "output_type": "stream",
     "text": [
      "Barton Baker\n"
     ]
    }
   ],
   "source": [
    "print(my_name)"
   ]
  },
  {
   "cell_type": "code",
   "execution_count": 9,
   "id": "temporal-paste",
   "metadata": {},
   "outputs": [
    {
     "data": {
      "text/plain": [
       "str"
      ]
     },
     "execution_count": 9,
     "metadata": {},
     "output_type": "execute_result"
    }
   ],
   "source": [
    "type(my_name)"
   ]
  },
  {
   "cell_type": "code",
   "execution_count": 10,
   "id": "regulated-singing",
   "metadata": {},
   "outputs": [],
   "source": [
    "my_bool = True"
   ]
  },
  {
   "cell_type": "code",
   "execution_count": 11,
   "id": "exempt-apollo",
   "metadata": {},
   "outputs": [
    {
     "data": {
      "text/plain": [
       "bool"
      ]
     },
     "execution_count": 11,
     "metadata": {},
     "output_type": "execute_result"
    }
   ],
   "source": [
    "type(my_bool)"
   ]
  },
  {
   "cell_type": "code",
   "execution_count": 12,
   "id": "unusual-cartridge",
   "metadata": {},
   "outputs": [],
   "source": [
    "my_mapper = {'his': 3, 'hers': 'ok', 'dog': \"rough\"}"
   ]
  },
  {
   "cell_type": "code",
   "execution_count": 13,
   "id": "flexible-mistress",
   "metadata": {},
   "outputs": [
    {
     "data": {
      "text/plain": [
       "dict"
      ]
     },
     "execution_count": 13,
     "metadata": {},
     "output_type": "execute_result"
    }
   ],
   "source": [
    "type(my_mapper)"
   ]
  },
  {
   "cell_type": "code",
   "execution_count": 14,
   "id": "female-force",
   "metadata": {},
   "outputs": [
    {
     "data": {
      "text/plain": [
       "'ok'"
      ]
     },
     "execution_count": 14,
     "metadata": {},
     "output_type": "execute_result"
    }
   ],
   "source": [
    "my_mapper['hers']"
   ]
  },
  {
   "cell_type": "code",
   "execution_count": 15,
   "id": "outdoor-bunny",
   "metadata": {},
   "outputs": [
    {
     "data": {
      "text/plain": [
       "125"
      ]
     },
     "execution_count": 15,
     "metadata": {},
     "output_type": "execute_result"
    }
   ],
   "source": [
    "5 ** 3"
   ]
  },
  {
   "cell_type": "code",
   "execution_count": 1,
   "id": "color-nature",
   "metadata": {},
   "outputs": [
    {
     "name": "stdout",
     "output_type": "stream",
     "text": [
      "He's a gonner\n"
     ]
    }
   ],
   "source": [
    "this_guy = 'Teddy'\n",
    "have_dog = False\n",
    "if this_guy == 'Ted':\n",
    "    print(\"We found \" + this_guy)\n",
    "elif have_dog:\n",
    "    print(\"Let's look for him!\")\n",
    "else:\n",
    "    print(\"He's a gonner\")"
   ]
  },
  {
   "cell_type": "code",
   "execution_count": 2,
   "id": "overhead-exhaust",
   "metadata": {},
   "outputs": [
    {
     "name": "stdout",
     "output_type": "stream",
     "text": [
      "Hello\n",
      "Should be OK\n"
     ]
    }
   ],
   "source": [
    "this_guy = 'Ted'\n",
    "have_dog = False\n",
    "if this_guy == 'Ted' and have_dog:\n",
    "    print(\"He's in good shape\")\n",
    "    print(\"I'm still in this if statement\")\n",
    "print(\"Hello\")    \n",
    "if this_guy == 'Ted' and not have_dog:\n",
    "    print(\"Should be OK\")"
   ]
  },
  {
   "cell_type": "code",
   "execution_count": 4,
   "id": "bulgarian-accessory",
   "metadata": {},
   "outputs": [
    {
     "name": "stdout",
     "output_type": "stream",
     "text": [
      "My name is Bill\n",
      "My name is Ted\n",
      "My name is Fred\n"
     ]
    }
   ],
   "source": [
    "for class_mate in ['Bill', 'Ted', 'Fred']:\n",
    "    print(\"My name is \" + class_mate)"
   ]
  },
  {
   "cell_type": "code",
   "execution_count": 5,
   "id": "enabling-scott",
   "metadata": {},
   "outputs": [],
   "source": [
    "class_names = ['Bill', 'Ted', 'Fred', 'John', 'Sarah', 'George']"
   ]
  },
  {
   "cell_type": "code",
   "execution_count": 6,
   "id": "backed-climb",
   "metadata": {},
   "outputs": [
    {
     "name": "stdout",
     "output_type": "stream",
     "text": [
      "My name is Bill\n",
      "My name is Ted\n",
      "My name is Fred\n",
      "My name is John\n",
      "My name is Sarah\n",
      "My name is George\n"
     ]
    }
   ],
   "source": [
    "for class_mate in class_names:\n",
    "    print(\"My name is \" + class_mate)"
   ]
  },
  {
   "cell_type": "code",
   "execution_count": 9,
   "id": "underlying-shelter",
   "metadata": {},
   "outputs": [
    {
     "name": "stdout",
     "output_type": "stream",
     "text": [
      "10\n",
      "12\n",
      "14\n",
      "16\n",
      "18\n"
     ]
    }
   ],
   "source": [
    "starter = 10\n",
    "while starter < 20:\n",
    "    print(starter)\n",
    "    starter = starter + 2"
   ]
  },
  {
   "cell_type": "code",
   "execution_count": 10,
   "id": "protected-squad",
   "metadata": {},
   "outputs": [
    {
     "name": "stdout",
     "output_type": "stream",
     "text": [
      "10\n",
      "12\n",
      "14\n",
      "16\n"
     ]
    }
   ],
   "source": [
    "starter = 10\n",
    "while starter < 20:\n",
    "    print(starter)\n",
    "    if starter == 16:\n",
    "        break\n",
    "    starter = starter + 2"
   ]
  },
  {
   "cell_type": "code",
   "execution_count": 15,
   "id": "organic-point",
   "metadata": {},
   "outputs": [
    {
     "name": "stdout",
     "output_type": "stream",
     "text": [
      "12\n",
      "14\n",
      "18\n",
      "20\n"
     ]
    }
   ],
   "source": [
    "starter = 10\n",
    "while starter < 20:\n",
    "    starter = starter + 2\n",
    "    if starter == 16:\n",
    "        continue\n",
    "    print(starter)    "
   ]
  },
  {
   "cell_type": "code",
   "execution_count": 19,
   "id": "defined-shareware",
   "metadata": {},
   "outputs": [
    {
     "name": "stdout",
     "output_type": "stream",
     "text": [
      "30\n",
      "My favorite variable is: x\n",
      "My favorite variable is: y\n",
      "My favorite variable is: z\n"
     ]
    }
   ],
   "source": [
    "myvar = '30'\n",
    "# DOC: This prints my variable value\n",
    "print(myvar)\n",
    "# NOTE: Some notes for other coders\n",
    "# TODO: This is nasty code, please come back to this\n",
    "# print(my_var + \"HOORAYYY\")\n",
    "for my_x_var in ['x', 'y', 'z']:\n",
    "    print('My favorite variable is: ' + my_x_var)"
   ]
  },
  {
   "cell_type": "code",
   "execution_count": 23,
   "id": "round-mixer",
   "metadata": {},
   "outputs": [],
   "source": [
    "def tell_joke(punch_line):\n",
    "    \"\"\"\n",
    "    Tells the best jokes in the world\n",
    "    \n",
    "    Parameters\n",
    "    ----------\n",
    "    punch_line : str\n",
    "        The punch_line for the joke\n",
    "    \"\"\"\n",
    "    print(\"Knock Knock\")\n",
    "    print(\"Who's there?\")\n",
    "    print(\"I don't know\")\n",
    "    print(punch_line)"
   ]
  },
  {
   "cell_type": "code",
   "execution_count": 24,
   "id": "prescription-planet",
   "metadata": {},
   "outputs": [
    {
     "name": "stdout",
     "output_type": "stream",
     "text": [
      "Knock Knock\n",
      "Who's there?\n",
      "I don't know\n",
      "Punch-line who?\n"
     ]
    }
   ],
   "source": [
    "tell_joke(\"Punch-line who?\")"
   ]
  },
  {
   "cell_type": "code",
   "execution_count": 22,
   "id": "solar-columbus",
   "metadata": {},
   "outputs": [
    {
     "name": "stdout",
     "output_type": "stream",
     "text": [
      "Knock Knock\n",
      "Who's there?\n",
      "I don't know\n",
      "To get to some other side!!!\n"
     ]
    }
   ],
   "source": [
    "tell_joke(\"To get to some other side!!!\")"
   ]
  },
  {
   "cell_type": "code",
   "execution_count": 25,
   "id": "decreased-craps",
   "metadata": {},
   "outputs": [],
   "source": [
    "def give_me_a_joke(punch_line):\n",
    "    \"\"\"\n",
    "    Tells the best jokes in the world\n",
    "    \n",
    "    Parameters\n",
    "    ----------\n",
    "    punch_line : str\n",
    "        The punch_line for the joke\n",
    "    \"\"\"\n",
    "    return [\"Knock Knock\", \"Who's there?\", \"I don't know\", punch_line]"
   ]
  },
  {
   "cell_type": "code",
   "execution_count": 26,
   "id": "cleared-bullet",
   "metadata": {},
   "outputs": [],
   "source": [
    "my_new_joke = give_me_a_joke(\"The best punchline!!!!\")"
   ]
  },
  {
   "cell_type": "code",
   "execution_count": 27,
   "id": "separate-rhythm",
   "metadata": {},
   "outputs": [
    {
     "data": {
      "text/plain": [
       "['Knock Knock', \"Who's there?\", \"I don't know\", 'The best punchline!!!!']"
      ]
     },
     "execution_count": 27,
     "metadata": {},
     "output_type": "execute_result"
    }
   ],
   "source": [
    "my_new_joke"
   ]
  },
  {
   "cell_type": "code",
   "execution_count": 28,
   "id": "ultimate-principal",
   "metadata": {},
   "outputs": [],
   "source": [
    "class Joke:\n",
    "    def __init__(self, punch_line):\n",
    "        self.punch_line = punch_line\n",
    "    \n",
    "    def tell_it(self):\n",
    "        print(\"Knock Knock\")\n",
    "        print(\"Who's there?\")\n",
    "        print(\"I don't know\")\n",
    "        print(self.punch_line)"
   ]
  },
  {
   "cell_type": "code",
   "execution_count": 29,
   "id": "assisted-anxiety",
   "metadata": {},
   "outputs": [],
   "source": [
    "my_best_joke = Joke(\"you all should laugh!!\")"
   ]
  },
  {
   "cell_type": "code",
   "execution_count": 30,
   "id": "textile-shelf",
   "metadata": {},
   "outputs": [
    {
     "data": {
      "text/plain": [
       "<__main__.Joke at 0x189b66828e0>"
      ]
     },
     "execution_count": 30,
     "metadata": {},
     "output_type": "execute_result"
    }
   ],
   "source": [
    "my_best_joke"
   ]
  },
  {
   "cell_type": "code",
   "execution_count": 31,
   "id": "overall-publicity",
   "metadata": {},
   "outputs": [
    {
     "name": "stdout",
     "output_type": "stream",
     "text": [
      "Knock Knock\n",
      "Who's there?\n",
      "I don't know\n",
      "you all should laugh!!\n"
     ]
    }
   ],
   "source": [
    "my_best_joke.tell_it()"
   ]
  },
  {
   "cell_type": "code",
   "execution_count": 32,
   "id": "modern-artist",
   "metadata": {},
   "outputs": [],
   "source": [
    "my_worst_joke = Joke(\"no one's laughing (woops)\")"
   ]
  },
  {
   "cell_type": "code",
   "execution_count": 33,
   "id": "altered-stanford",
   "metadata": {},
   "outputs": [
    {
     "name": "stdout",
     "output_type": "stream",
     "text": [
      "Knock Knock\n",
      "Who's there?\n",
      "I don't know\n",
      "no one's laughing (woops)\n"
     ]
    }
   ],
   "source": [
    "my_worst_joke.tell_it()"
   ]
  },
  {
   "cell_type": "code",
   "execution_count": 41,
   "id": "looking-century",
   "metadata": {},
   "outputs": [],
   "source": [
    "class MyCompaniesTradingStrategy:\n",
    "    def __init__(self, futures_underlying, expirations):\n",
    "        self.futures_underlying = futures_underlying\n",
    "        self.expirations = expirations\n",
    "    def get_my_expirations(self):\n",
    "        print(self.expirations)\n",
    "    def adjust_my_expirations(self, adjustment_period):\n",
    "        new_expirations = []\n",
    "        for expiration in self.expirations:\n",
    "            new_expirations.append(expiration + adjustment_period)\n",
    "        self.expirations = new_expirations\n",
    "    def trade_my_portfolio(self):\n",
    "        print(\"Traded these futures: \" + str(self.futures_underlying))\n",
    "        print(\"Using these expirations: \" + str(self.expirations))"
   ]
  },
  {
   "cell_type": "code",
   "execution_count": 42,
   "id": "republican-capital",
   "metadata": {},
   "outputs": [],
   "source": [
    "my_tester_ts = MyCompaniesTradingStrategy(\n",
    "    futures_underlying=['gold', 'frankincense', 'myrrh'], \n",
    "    expirations=[30, 60, 120, 180]\n",
    ")"
   ]
  },
  {
   "cell_type": "code",
   "execution_count": 37,
   "id": "hungry-divide",
   "metadata": {},
   "outputs": [
    {
     "name": "stdout",
     "output_type": "stream",
     "text": [
      "[30, 60, 120, 180]\n"
     ]
    }
   ],
   "source": [
    "my_tester_ts.get_my_expirations()"
   ]
  },
  {
   "cell_type": "code",
   "execution_count": 38,
   "id": "cultural-parameter",
   "metadata": {},
   "outputs": [
    {
     "name": "stdout",
     "output_type": "stream",
     "text": [
      "Traded these futures: ['gold', 'frankincense', 'myrrh']\n",
      "Using these expirations: [30, 60, 120, 180]\n"
     ]
    }
   ],
   "source": [
    "my_tester_ts.trade_my_portfolio()"
   ]
  },
  {
   "cell_type": "code",
   "execution_count": 43,
   "id": "rapid-complement",
   "metadata": {},
   "outputs": [],
   "source": [
    "my_tester_ts.adjust_my_expirations(3)"
   ]
  },
  {
   "cell_type": "code",
   "execution_count": 44,
   "id": "fundamental-treasure",
   "metadata": {},
   "outputs": [
    {
     "name": "stdout",
     "output_type": "stream",
     "text": [
      "[33, 63, 123, 183]\n"
     ]
    }
   ],
   "source": [
    "my_tester_ts.get_my_expirations()"
   ]
  },
  {
   "cell_type": "code",
   "execution_count": 45,
   "id": "rotary-hawaiian",
   "metadata": {},
   "outputs": [],
   "source": [
    "class ImprovedCompanyTradingStrategy(MyCompaniesTradingStrategy):\n",
    "    def invest_in_gold(self, gold_amount):\n",
    "        \"\"\"\n",
    "        This function makes us a lot of money\n",
    "        \n",
    "        Parameters\n",
    "        ----------\n",
    "        gold_amount : float\n",
    "            How much gold we should buy\n",
    "        \"\"\"\n",
    "        self.futures_underlying = self.futures_underlying + ['gold']"
   ]
  },
  {
   "cell_type": "code",
   "execution_count": 46,
   "id": "tested-enforcement",
   "metadata": {},
   "outputs": [
    {
     "ename": "TypeError",
     "evalue": "__init__() missing 2 required positional arguments: 'futures_underlying' and 'expirations'",
     "output_type": "error",
     "traceback": [
      "\u001b[1;31m---------------------------------------------------------------------------\u001b[0m",
      "\u001b[1;31mTypeError\u001b[0m                                 Traceback (most recent call last)",
      "\u001b[1;32m<ipython-input-46-d4c0b938c317>\u001b[0m in \u001b[0;36m<module>\u001b[1;34m\u001b[0m\n\u001b[1;32m----> 1\u001b[1;33m \u001b[0mtester_strategy\u001b[0m \u001b[1;33m=\u001b[0m \u001b[0mImprovedCompanyTradingStrategy\u001b[0m\u001b[1;33m(\u001b[0m\u001b[1;33m)\u001b[0m\u001b[1;33m\u001b[0m\u001b[1;33m\u001b[0m\u001b[0m\n\u001b[0m",
      "\u001b[1;31mTypeError\u001b[0m: __init__() missing 2 required positional arguments: 'futures_underlying' and 'expirations'"
     ]
    }
   ],
   "source": [
    "tester_strategy = ImprovedCompanyTradingStrategy()"
   ]
  },
  {
   "cell_type": "code",
   "execution_count": 47,
   "id": "promising-meter",
   "metadata": {},
   "outputs": [],
   "source": [
    "tester_strategy = ImprovedCompanyTradingStrategy(\n",
    "    futures_underlying=['silver', 'bronze', 'copper'],\n",
    "    expirations=[25, 50]\n",
    ")"
   ]
  },
  {
   "cell_type": "code",
   "execution_count": 48,
   "id": "signal-oxford",
   "metadata": {},
   "outputs": [
    {
     "name": "stdout",
     "output_type": "stream",
     "text": [
      "[25, 50]\n"
     ]
    }
   ],
   "source": [
    "tester_strategy.get_my_expirations()"
   ]
  },
  {
   "cell_type": "code",
   "execution_count": 49,
   "id": "finite-thinking",
   "metadata": {},
   "outputs": [
    {
     "name": "stdout",
     "output_type": "stream",
     "text": [
      "Traded these futures: ['silver', 'bronze', 'copper']\n",
      "Using these expirations: [25, 50]\n"
     ]
    }
   ],
   "source": [
    "tester_strategy.trade_my_portfolio()"
   ]
  },
  {
   "cell_type": "code",
   "execution_count": 51,
   "id": "graphic-billy",
   "metadata": {},
   "outputs": [],
   "source": [
    "tester_strategy.invest_in_gold(500)"
   ]
  },
  {
   "cell_type": "code",
   "execution_count": 52,
   "id": "alpine-voluntary",
   "metadata": {},
   "outputs": [
    {
     "name": "stdout",
     "output_type": "stream",
     "text": [
      "Traded these futures: ['silver', 'bronze', 'copper', 'gold']\n",
      "Using these expirations: [25, 50]\n"
     ]
    }
   ],
   "source": [
    "tester_strategy.trade_my_portfolio()"
   ]
  },
  {
   "cell_type": "code",
   "execution_count": 53,
   "id": "prospective-webmaster",
   "metadata": {},
   "outputs": [],
   "source": [
    "def sum_these_guys(a, b):\n",
    "    print(a + b)"
   ]
  },
  {
   "cell_type": "code",
   "execution_count": 54,
   "id": "stock-thursday",
   "metadata": {},
   "outputs": [],
   "source": [
    "import pandas as pd"
   ]
  },
  {
   "cell_type": "code",
   "execution_count": 55,
   "id": "noble-festival",
   "metadata": {},
   "outputs": [],
   "source": [
    "my_new_list = [3, 10, 20]"
   ]
  },
  {
   "cell_type": "code",
   "execution_count": 56,
   "id": "based-division",
   "metadata": {},
   "outputs": [],
   "source": [
    "awesome_series = pd.Series(my_new_list)"
   ]
  },
  {
   "cell_type": "code",
   "execution_count": 57,
   "id": "attractive-product",
   "metadata": {},
   "outputs": [
    {
     "data": {
      "text/plain": [
       "0     3\n",
       "1    10\n",
       "2    20\n",
       "dtype: int64"
      ]
     },
     "execution_count": 57,
     "metadata": {},
     "output_type": "execute_result"
    }
   ],
   "source": [
    "awesome_series"
   ]
  },
  {
   "cell_type": "code",
   "execution_count": 58,
   "id": "tight-priest",
   "metadata": {},
   "outputs": [],
   "source": [
    "from pandas import *\n",
    "from numpy import *\n",
    "awesome_series = Series(my_new_list)"
   ]
  },
  {
   "cell_type": "code",
   "execution_count": 59,
   "id": "political-expense",
   "metadata": {},
   "outputs": [],
   "source": [
    "import pandas\n",
    "awesome_mega_series = pandas.Series(my_new_list)"
   ]
  },
  {
   "cell_type": "code",
   "execution_count": 60,
   "id": "broke-investing",
   "metadata": {},
   "outputs": [
    {
     "ename": "ModuleNotFoundError",
     "evalue": "No module named 'BeautifulSoup'",
     "output_type": "error",
     "traceback": [
      "\u001b[1;31m---------------------------------------------------------------------------\u001b[0m",
      "\u001b[1;31mModuleNotFoundError\u001b[0m                       Traceback (most recent call last)",
      "\u001b[1;32m<ipython-input-60-ad1a75b85793>\u001b[0m in \u001b[0;36m<module>\u001b[1;34m\u001b[0m\n\u001b[1;32m----> 1\u001b[1;33m \u001b[1;32mimport\u001b[0m \u001b[0mBeautifulSoup\u001b[0m\u001b[1;33m\u001b[0m\u001b[1;33m\u001b[0m\u001b[0m\n\u001b[0m",
      "\u001b[1;31mModuleNotFoundError\u001b[0m: No module named 'BeautifulSoup'"
     ]
    }
   ],
   "source": [
    "import BeautifulSoup"
   ]
  },
  {
   "cell_type": "code",
   "execution_count": 61,
   "id": "hollow-pattern",
   "metadata": {},
   "outputs": [],
   "source": [
    "import scipy as sp"
   ]
  },
  {
   "cell_type": "code",
   "execution_count": null,
   "id": "divided-portal",
   "metadata": {},
   "outputs": [],
   "source": []
  }
 ],
 "metadata": {
  "kernelspec": {
   "display_name": "Python 3",
   "language": "python",
   "name": "python3"
  },
  "language_info": {
   "codemirror_mode": {
    "name": "ipython",
    "version": 3
   },
   "file_extension": ".py",
   "mimetype": "text/x-python",
   "name": "python",
   "nbconvert_exporter": "python",
   "pygments_lexer": "ipython3",
   "version": "3.8.5"
  }
 },
 "nbformat": 4,
 "nbformat_minor": 5
}

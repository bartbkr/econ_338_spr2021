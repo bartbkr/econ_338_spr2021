{
 "cells": [
  {
   "cell_type": "code",
   "execution_count": 4,
   "metadata": {},
   "outputs": [],
   "source": [
    "import os\n",
    "import yfinance\n",
    "\n",
    "from fredapi import Fred"
   ]
  },
  {
   "cell_type": "code",
   "execution_count": 2,
   "metadata": {},
   "outputs": [],
   "source": [
    "fred = Fred(api_key=os.environ['FRED_API_KEY'])\n",
    "t_bill_3m = fred.get_series('TB3MS')"
   ]
  },
  {
   "cell_type": "code",
   "execution_count": 5,
   "metadata": {},
   "outputs": [
    {
     "data": {
      "text/plain": [
       "1934-01-01    0.72\n",
       "1934-02-01    0.62\n",
       "1934-03-01    0.24\n",
       "1934-04-01    0.15\n",
       "1934-05-01    0.16\n",
       "              ... \n",
       "2020-09-01    0.11\n",
       "2020-10-01    0.10\n",
       "2020-11-01    0.09\n",
       "2020-12-01    0.09\n",
       "2021-01-01    0.08\n",
       "Length: 1045, dtype: float64"
      ]
     },
     "execution_count": 5,
     "metadata": {},
     "output_type": "execute_result"
    }
   ],
   "source": [
    "t_bill_3m"
   ]
  },
  {
   "cell_type": "code",
   "execution_count": 6,
   "metadata": {},
   "outputs": [
    {
     "data": {
      "text/plain": [
       "<AxesSubplot:>"
      ]
     },
     "execution_count": 6,
     "metadata": {},
     "output_type": "execute_result"
    },
    {
     "data": {
      "image/png": "[encoded data removed]",
      "text/plain": [
       "<Figure size 432x288 with 1 Axes>"
      ]
     },
     "metadata": {
      "needs_background": "light"
     },
     "output_type": "display_data"
    }
   ],
   "source": [
    "t_bill_3m.plot()"
   ]
  },
  {
   "cell_type": "code",
   "execution_count": 7,
   "metadata": {},
   "outputs": [],
   "source": [
    "last_tbill_3m = t_bill_3m.iloc[-1]"
   ]
  },
  {
   "cell_type": "code",
   "execution_count": 8,
   "metadata": {},
   "outputs": [
    {
     "data": {
      "text/plain": [
       "0.08"
      ]
     },
     "execution_count": 8,
     "metadata": {},
     "output_type": "execute_result"
    }
   ],
   "source": [
    "last_tbill_3m"
   ]
  },
  {
   "cell_type": "code",
   "execution_count": 9,
   "metadata": {},
   "outputs": [],
   "source": [
    "gold = yfinance.Ticker('GC=F')"
   ]
  },
  {
   "cell_type": "code",
   "execution_count": 10,
   "metadata": {},
   "outputs": [
    {
     "data": {
      "text/plain": [
       "yfinance.Ticker object <GC=F>"
      ]
     },
     "execution_count": 10,
     "metadata": {},
     "output_type": "execute_result"
    }
   ],
   "source": [
    "gold"
   ]
  },
  {
   "cell_type": "code",
   "execution_count": 11,
   "metadata": {},
   "outputs": [
    {
     "data": {
      "text/plain": [
       "{'previousClose': 1833.4,\n",
       " 'regularMarketOpen': 1838.5,\n",
       " 'twoHundredDayAverage': 1898.9674,\n",
       " 'trailingAnnualDividendYield': None,\n",
       " 'payoutRatio': None,\n",
       " 'volume24Hr': None,\n",
       " 'regularMarketDayHigh': 1845.9,\n",
       " 'navPrice': None,\n",
       " 'averageDailyVolume10Day': 32504,\n",
       " 'totalAssets': None,\n",
       " 'regularMarketPreviousClose': 1833.4,\n",
       " 'fiftyDayAverage': 1868.2576,\n",
       " 'trailingAnnualDividendRate': None,\n",
       " 'open': 1838.5,\n",
       " 'toCurrency': None,\n",
       " 'averageVolume10days': 32504,\n",
       " 'expireDate': 1619568000,\n",
       " 'yield': None,\n",
       " 'algorithm': None,\n",
       " 'dividendRate': None,\n",
       " 'exDividendDate': None,\n",
       " 'beta': None,\n",
       " 'circulatingSupply': None,\n",
       " 'startDate': None,\n",
       " 'regularMarketDayLow': 1830.1,\n",
       " 'priceHint': 2,\n",
       " 'currency': 'USD',\n",
       " 'regularMarketVolume': 134552,\n",
       " 'lastMarket': None,\n",
       " 'maxSupply': None,\n",
       " 'openInterest': 405061,\n",
       " 'marketCap': None,\n",
       " 'volumeAllCurrencies': None,\n",
       " 'strikePrice': None,\n",
       " 'averageVolume': 8539,\n",
       " 'priceToSalesTrailing12Months': None,\n",
       " 'dayLow': 1830.1,\n",
       " 'ask': 1835.2,\n",
       " 'ytdReturn': None,\n",
       " 'askSize': 1200,\n",
       " 'volume': 134552,\n",
       " 'fiftyTwoWeekHigh': 2063,\n",
       " 'forwardPE': None,\n",
       " 'maxAge': 1,\n",
       " 'fromCurrency': None,\n",
       " 'fiveYearAvgDividendYield': None,\n",
       " 'fiftyTwoWeekLow': 1452.1,\n",
       " 'bid': 1834.5,\n",
       " 'tradeable': False,\n",
       " 'dividendYield': None,\n",
       " 'bidSize': 1400,\n",
       " 'dayHigh': 1845.9,\n",
       " 'exchange': 'CMX',\n",
       " 'shortName': 'Gold Apr 21',\n",
       " 'exchangeTimezoneName': 'America/New_York',\n",
       " 'exchangeTimezoneShortName': 'EST',\n",
       " 'isEsgPopulated': False,\n",
       " 'gmtOffSetMilliseconds': '-18000000',\n",
       " 'underlyingSymbol': 'GCJ21.CMX',\n",
       " 'quoteType': 'FUTURE',\n",
       " 'symbol': 'GC=F',\n",
       " 'underlyingExchangeSymbol': 'GCJ21.CMX',\n",
       " 'headSymbol': 'GC=F',\n",
       " 'market': 'us24_market',\n",
       " 'regularMarketPrice': 1838.5,\n",
       " 'logo_url': ''}"
      ]
     },
     "execution_count": 11,
     "metadata": {},
     "output_type": "execute_result"
    }
   ],
   "source": [
    "gold.info"
   ]
  },
  {
   "cell_type": "code",
   "execution_count": 12,
   "metadata": {},
   "outputs": [
    {
     "data": {
      "text/html": [
       "<div>\n",
       "<style scoped>\n",
       "    .dataframe tbody tr th:only-of-type {\n",
       "        vertical-align: middle;\n",
       "    }\n",
       "\n",
       "    .dataframe tbody tr th {\n",
       "        vertical-align: top;\n",
       "    }\n",
       "\n",
       "    .dataframe thead th {\n",
       "        text-align: right;\n",
       "    }\n",
       "</style>\n",
       "<table border=\"1\" class=\"dataframe\">\n",
       "  <thead>\n",
       "    <tr style=\"text-align: right;\">\n",
       "      <th></th>\n",
       "      <th>Open</th>\n",
       "      <th>High</th>\n",
       "      <th>Low</th>\n",
       "      <th>Close</th>\n",
       "      <th>Volume</th>\n",
       "      <th>Dividends</th>\n",
       "      <th>Stock Splits</th>\n",
       "    </tr>\n",
       "    <tr>\n",
       "      <th>Date</th>\n",
       "      <th></th>\n",
       "      <th></th>\n",
       "      <th></th>\n",
       "      <th></th>\n",
       "      <th></th>\n",
       "      <th></th>\n",
       "      <th></th>\n",
       "    </tr>\n",
       "  </thead>\n",
       "  <tbody>\n",
       "    <tr>\n",
       "      <th>2021-01-04</th>\n",
       "      <td>1912.199951</td>\n",
       "      <td>1945.099976</td>\n",
       "      <td>1912.199951</td>\n",
       "      <td>1944.699951</td>\n",
       "      <td>154</td>\n",
       "      <td>0</td>\n",
       "      <td>0</td>\n",
       "    </tr>\n",
       "    <tr>\n",
       "      <th>2021-01-05</th>\n",
       "      <td>1941.699951</td>\n",
       "      <td>1952.699951</td>\n",
       "      <td>1941.300049</td>\n",
       "      <td>1952.699951</td>\n",
       "      <td>113</td>\n",
       "      <td>0</td>\n",
       "      <td>0</td>\n",
       "    </tr>\n",
       "    <tr>\n",
       "      <th>2021-01-06</th>\n",
       "      <td>1952.000000</td>\n",
       "      <td>1959.900024</td>\n",
       "      <td>1901.500000</td>\n",
       "      <td>1906.900024</td>\n",
       "      <td>331</td>\n",
       "      <td>0</td>\n",
       "      <td>0</td>\n",
       "    </tr>\n",
       "    <tr>\n",
       "      <th>2021-01-07</th>\n",
       "      <td>1922.599976</td>\n",
       "      <td>1926.699951</td>\n",
       "      <td>1912.000000</td>\n",
       "      <td>1912.300049</td>\n",
       "      <td>122</td>\n",
       "      <td>0</td>\n",
       "      <td>0</td>\n",
       "    </tr>\n",
       "    <tr>\n",
       "      <th>2021-01-08</th>\n",
       "      <td>1908.000000</td>\n",
       "      <td>1908.000000</td>\n",
       "      <td>1834.099976</td>\n",
       "      <td>1834.099976</td>\n",
       "      <td>60</td>\n",
       "      <td>0</td>\n",
       "      <td>0</td>\n",
       "    </tr>\n",
       "    <tr>\n",
       "      <th>2021-01-11</th>\n",
       "      <td>1826.500000</td>\n",
       "      <td>1849.599976</td>\n",
       "      <td>1826.500000</td>\n",
       "      <td>1849.599976</td>\n",
       "      <td>20</td>\n",
       "      <td>0</td>\n",
       "      <td>0</td>\n",
       "    </tr>\n",
       "    <tr>\n",
       "      <th>2021-01-12</th>\n",
       "      <td>1849.000000</td>\n",
       "      <td>1859.699951</td>\n",
       "      <td>1839.400024</td>\n",
       "      <td>1842.900024</td>\n",
       "      <td>176</td>\n",
       "      <td>0</td>\n",
       "      <td>0</td>\n",
       "    </tr>\n",
       "    <tr>\n",
       "      <th>2021-01-13</th>\n",
       "      <td>1858.000000</td>\n",
       "      <td>1858.599976</td>\n",
       "      <td>1853.599976</td>\n",
       "      <td>1853.599976</td>\n",
       "      <td>189</td>\n",
       "      <td>0</td>\n",
       "      <td>0</td>\n",
       "    </tr>\n",
       "    <tr>\n",
       "      <th>2021-01-14</th>\n",
       "      <td>1836.699951</td>\n",
       "      <td>1850.699951</td>\n",
       "      <td>1836.699951</td>\n",
       "      <td>1850.300049</td>\n",
       "      <td>149</td>\n",
       "      <td>0</td>\n",
       "      <td>0</td>\n",
       "    </tr>\n",
       "    <tr>\n",
       "      <th>2021-01-15</th>\n",
       "      <td>1829.400024</td>\n",
       "      <td>1829.400024</td>\n",
       "      <td>1825.000000</td>\n",
       "      <td>1829.300049</td>\n",
       "      <td>149</td>\n",
       "      <td>0</td>\n",
       "      <td>0</td>\n",
       "    </tr>\n",
       "    <tr>\n",
       "      <th>2021-01-19</th>\n",
       "      <td>1802.000000</td>\n",
       "      <td>1842.900024</td>\n",
       "      <td>1802.000000</td>\n",
       "      <td>1839.500000</td>\n",
       "      <td>13</td>\n",
       "      <td>0</td>\n",
       "      <td>0</td>\n",
       "    </tr>\n",
       "    <tr>\n",
       "      <th>2021-01-20</th>\n",
       "      <td>1847.800049</td>\n",
       "      <td>1866.599976</td>\n",
       "      <td>1844.400024</td>\n",
       "      <td>1865.900024</td>\n",
       "      <td>16</td>\n",
       "      <td>0</td>\n",
       "      <td>0</td>\n",
       "    </tr>\n",
       "    <tr>\n",
       "      <th>2021-01-21</th>\n",
       "      <td>1865.300049</td>\n",
       "      <td>1868.000000</td>\n",
       "      <td>1865.300049</td>\n",
       "      <td>1865.300049</td>\n",
       "      <td>6</td>\n",
       "      <td>0</td>\n",
       "      <td>0</td>\n",
       "    </tr>\n",
       "    <tr>\n",
       "      <th>2021-01-22</th>\n",
       "      <td>1854.900024</td>\n",
       "      <td>1855.699951</td>\n",
       "      <td>1852.699951</td>\n",
       "      <td>1855.699951</td>\n",
       "      <td>6</td>\n",
       "      <td>0</td>\n",
       "      <td>0</td>\n",
       "    </tr>\n",
       "    <tr>\n",
       "      <th>2021-01-25</th>\n",
       "      <td>1864.699951</td>\n",
       "      <td>1864.699951</td>\n",
       "      <td>1851.800049</td>\n",
       "      <td>1854.900024</td>\n",
       "      <td>26</td>\n",
       "      <td>0</td>\n",
       "      <td>0</td>\n",
       "    </tr>\n",
       "    <tr>\n",
       "      <th>2021-01-26</th>\n",
       "      <td>1855.800049</td>\n",
       "      <td>1855.800049</td>\n",
       "      <td>1850.699951</td>\n",
       "      <td>1850.699951</td>\n",
       "      <td>59</td>\n",
       "      <td>0</td>\n",
       "      <td>0</td>\n",
       "    </tr>\n",
       "    <tr>\n",
       "      <th>2021-01-27</th>\n",
       "      <td>1844.900024</td>\n",
       "      <td>1844.900024</td>\n",
       "      <td>1844.900024</td>\n",
       "      <td>1844.900024</td>\n",
       "      <td>195540</td>\n",
       "      <td>0</td>\n",
       "      <td>0</td>\n",
       "    </tr>\n",
       "    <tr>\n",
       "      <th>2021-01-28</th>\n",
       "      <td>1843.400024</td>\n",
       "      <td>1862.900024</td>\n",
       "      <td>1831.500000</td>\n",
       "      <td>1837.900024</td>\n",
       "      <td>27283</td>\n",
       "      <td>0</td>\n",
       "      <td>0</td>\n",
       "    </tr>\n",
       "    <tr>\n",
       "      <th>2021-01-29</th>\n",
       "      <td>1842.000000</td>\n",
       "      <td>1876.000000</td>\n",
       "      <td>1838.699951</td>\n",
       "      <td>1847.300049</td>\n",
       "      <td>27283</td>\n",
       "      <td>0</td>\n",
       "      <td>0</td>\n",
       "    </tr>\n",
       "    <tr>\n",
       "      <th>2021-02-01</th>\n",
       "      <td>1866.599976</td>\n",
       "      <td>1871.900024</td>\n",
       "      <td>1850.000000</td>\n",
       "      <td>1860.800049</td>\n",
       "      <td>1494</td>\n",
       "      <td>0</td>\n",
       "      <td>0</td>\n",
       "    </tr>\n",
       "    <tr>\n",
       "      <th>2021-02-02</th>\n",
       "      <td>1859.599976</td>\n",
       "      <td>1861.300049</td>\n",
       "      <td>1827.599976</td>\n",
       "      <td>1830.500000</td>\n",
       "      <td>1494</td>\n",
       "      <td>0</td>\n",
       "      <td>0</td>\n",
       "    </tr>\n",
       "    <tr>\n",
       "      <th>2021-02-03</th>\n",
       "      <td>1838.500000</td>\n",
       "      <td>1845.900024</td>\n",
       "      <td>1830.099976</td>\n",
       "      <td>1834.800049</td>\n",
       "      <td>134552</td>\n",
       "      <td>0</td>\n",
       "      <td>0</td>\n",
       "    </tr>\n",
       "  </tbody>\n",
       "</table>\n",
       "</div>"
      ],
      "text/plain": [
       "                   Open         High          Low        Close  Volume  \\\n",
       "Date                                                                     \n",
       "2021-01-04  1912.199951  1945.099976  1912.199951  1944.699951     154   \n",
       "2021-01-05  1941.699951  1952.699951  1941.300049  1952.699951     113   \n",
       "2021-01-06  1952.000000  1959.900024  1901.500000  1906.900024     331   \n",
       "2021-01-07  1922.599976  1926.699951  1912.000000  1912.300049     122   \n",
       "2021-01-08  1908.000000  1908.000000  1834.099976  1834.099976      60   \n",
       "2021-01-11  1826.500000  1849.599976  1826.500000  1849.599976      20   \n",
       "2021-01-12  1849.000000  1859.699951  1839.400024  1842.900024     176   \n",
       "2021-01-13  1858.000000  1858.599976  1853.599976  1853.599976     189   \n",
       "2021-01-14  1836.699951  1850.699951  1836.699951  1850.300049     149   \n",
       "2021-01-15  1829.400024  1829.400024  1825.000000  1829.300049     149   \n",
       "2021-01-19  1802.000000  1842.900024  1802.000000  1839.500000      13   \n",
       "2021-01-20  1847.800049  1866.599976  1844.400024  1865.900024      16   \n",
       "2021-01-21  1865.300049  1868.000000  1865.300049  1865.300049       6   \n",
       "2021-01-22  1854.900024  1855.699951  1852.699951  1855.699951       6   \n",
       "2021-01-25  1864.699951  1864.699951  1851.800049  1854.900024      26   \n",
       "2021-01-26  1855.800049  1855.800049  1850.699951  1850.699951      59   \n",
       "2021-01-27  1844.900024  1844.900024  1844.900024  1844.900024  195540   \n",
       "2021-01-28  1843.400024  1862.900024  1831.500000  1837.900024   27283   \n",
       "2021-01-29  1842.000000  1876.000000  1838.699951  1847.300049   27283   \n",
       "2021-02-01  1866.599976  1871.900024  1850.000000  1860.800049    1494   \n",
       "2021-02-02  1859.599976  1861.300049  1827.599976  1830.500000    1494   \n",
       "2021-02-03  1838.500000  1845.900024  1830.099976  1834.800049  134552   \n",
       "\n",
       "            Dividends  Stock Splits  \n",
       "Date                                 \n",
       "2021-01-04          0             0  \n",
       "2021-01-05          0             0  \n",
       "2021-01-06          0             0  \n",
       "2021-01-07          0             0  \n",
       "2021-01-08          0             0  \n",
       "2021-01-11          0             0  \n",
       "2021-01-12          0             0  \n",
       "2021-01-13          0             0  \n",
       "2021-01-14          0             0  \n",
       "2021-01-15          0             0  \n",
       "2021-01-19          0             0  \n",
       "2021-01-20          0             0  \n",
       "2021-01-21          0             0  \n",
       "2021-01-22          0             0  \n",
       "2021-01-25          0             0  \n",
       "2021-01-26          0             0  \n",
       "2021-01-27          0             0  \n",
       "2021-01-28          0             0  \n",
       "2021-01-29          0             0  \n",
       "2021-02-01          0             0  \n",
       "2021-02-02          0             0  \n",
       "2021-02-03          0             0  "
      ]
     },
     "execution_count": 12,
     "metadata": {},
     "output_type": "execute_result"
    }
   ],
   "source": [
    "gold.history()"
   ]
  },
  {
   "cell_type": "code",
   "execution_count": 13,
   "metadata": {},
   "outputs": [
    {
     "data": {
      "text/plain": [
       "22"
      ]
     },
     "execution_count": 13,
     "metadata": {},
     "output_type": "execute_result"
    }
   ],
   "source": [
    "len(gold.history().index)"
   ]
  },
  {
   "cell_type": "code",
   "execution_count": 14,
   "metadata": {},
   "outputs": [
    {
     "data": {
      "text/html": [
       "<div>\n",
       "<style scoped>\n",
       "    .dataframe tbody tr th:only-of-type {\n",
       "        vertical-align: middle;\n",
       "    }\n",
       "\n",
       "    .dataframe tbody tr th {\n",
       "        vertical-align: top;\n",
       "    }\n",
       "\n",
       "    .dataframe thead th {\n",
       "        text-align: right;\n",
       "    }\n",
       "</style>\n",
       "<table border=\"1\" class=\"dataframe\">\n",
       "  <thead>\n",
       "    <tr style=\"text-align: right;\">\n",
       "      <th></th>\n",
       "      <th>Open</th>\n",
       "      <th>High</th>\n",
       "      <th>Low</th>\n",
       "      <th>Close</th>\n",
       "      <th>Volume</th>\n",
       "      <th>Dividends</th>\n",
       "      <th>Stock Splits</th>\n",
       "    </tr>\n",
       "    <tr>\n",
       "      <th>Date</th>\n",
       "      <th></th>\n",
       "      <th></th>\n",
       "      <th></th>\n",
       "      <th></th>\n",
       "      <th></th>\n",
       "      <th></th>\n",
       "      <th></th>\n",
       "    </tr>\n",
       "  </thead>\n",
       "  <tbody>\n",
       "    <tr>\n",
       "      <th>2000-08-30</th>\n",
       "      <td>273.899994</td>\n",
       "      <td>273.899994</td>\n",
       "      <td>273.899994</td>\n",
       "      <td>273.899994</td>\n",
       "      <td>0</td>\n",
       "      <td>0</td>\n",
       "      <td>0</td>\n",
       "    </tr>\n",
       "    <tr>\n",
       "      <th>2000-08-31</th>\n",
       "      <td>274.799988</td>\n",
       "      <td>278.299988</td>\n",
       "      <td>274.799988</td>\n",
       "      <td>278.299988</td>\n",
       "      <td>0</td>\n",
       "      <td>0</td>\n",
       "      <td>0</td>\n",
       "    </tr>\n",
       "    <tr>\n",
       "      <th>2000-09-01</th>\n",
       "      <td>277.000000</td>\n",
       "      <td>277.000000</td>\n",
       "      <td>277.000000</td>\n",
       "      <td>277.000000</td>\n",
       "      <td>0</td>\n",
       "      <td>0</td>\n",
       "      <td>0</td>\n",
       "    </tr>\n",
       "    <tr>\n",
       "      <th>2000-09-05</th>\n",
       "      <td>275.799988</td>\n",
       "      <td>275.799988</td>\n",
       "      <td>275.799988</td>\n",
       "      <td>275.799988</td>\n",
       "      <td>2</td>\n",
       "      <td>0</td>\n",
       "      <td>0</td>\n",
       "    </tr>\n",
       "    <tr>\n",
       "      <th>2000-09-06</th>\n",
       "      <td>274.200012</td>\n",
       "      <td>274.200012</td>\n",
       "      <td>274.200012</td>\n",
       "      <td>274.200012</td>\n",
       "      <td>0</td>\n",
       "      <td>0</td>\n",
       "      <td>0</td>\n",
       "    </tr>\n",
       "    <tr>\n",
       "      <th>...</th>\n",
       "      <td>...</td>\n",
       "      <td>...</td>\n",
       "      <td>...</td>\n",
       "      <td>...</td>\n",
       "      <td>...</td>\n",
       "      <td>...</td>\n",
       "      <td>...</td>\n",
       "    </tr>\n",
       "    <tr>\n",
       "      <th>2021-01-28</th>\n",
       "      <td>1843.400024</td>\n",
       "      <td>1862.900024</td>\n",
       "      <td>1831.500000</td>\n",
       "      <td>1837.900024</td>\n",
       "      <td>27283</td>\n",
       "      <td>0</td>\n",
       "      <td>0</td>\n",
       "    </tr>\n",
       "    <tr>\n",
       "      <th>2021-01-29</th>\n",
       "      <td>1842.000000</td>\n",
       "      <td>1876.000000</td>\n",
       "      <td>1838.699951</td>\n",
       "      <td>1847.300049</td>\n",
       "      <td>27283</td>\n",
       "      <td>0</td>\n",
       "      <td>0</td>\n",
       "    </tr>\n",
       "    <tr>\n",
       "      <th>2021-02-01</th>\n",
       "      <td>1866.599976</td>\n",
       "      <td>1871.900024</td>\n",
       "      <td>1850.000000</td>\n",
       "      <td>1860.800049</td>\n",
       "      <td>1494</td>\n",
       "      <td>0</td>\n",
       "      <td>0</td>\n",
       "    </tr>\n",
       "    <tr>\n",
       "      <th>2021-02-02</th>\n",
       "      <td>1859.599976</td>\n",
       "      <td>1861.300049</td>\n",
       "      <td>1827.599976</td>\n",
       "      <td>1830.500000</td>\n",
       "      <td>1494</td>\n",
       "      <td>0</td>\n",
       "      <td>0</td>\n",
       "    </tr>\n",
       "    <tr>\n",
       "      <th>2021-02-03</th>\n",
       "      <td>1838.500000</td>\n",
       "      <td>1845.900024</td>\n",
       "      <td>1830.099976</td>\n",
       "      <td>1834.800049</td>\n",
       "      <td>134552</td>\n",
       "      <td>0</td>\n",
       "      <td>0</td>\n",
       "    </tr>\n",
       "  </tbody>\n",
       "</table>\n",
       "<p>5092 rows × 7 columns</p>\n",
       "</div>"
      ],
      "text/plain": [
       "                   Open         High          Low        Close  Volume  \\\n",
       "Date                                                                     \n",
       "2000-08-30   273.899994   273.899994   273.899994   273.899994       0   \n",
       "2000-08-31   274.799988   278.299988   274.799988   278.299988       0   \n",
       "2000-09-01   277.000000   277.000000   277.000000   277.000000       0   \n",
       "2000-09-05   275.799988   275.799988   275.799988   275.799988       2   \n",
       "2000-09-06   274.200012   274.200012   274.200012   274.200012       0   \n",
       "...                 ...          ...          ...          ...     ...   \n",
       "2021-01-28  1843.400024  1862.900024  1831.500000  1837.900024   27283   \n",
       "2021-01-29  1842.000000  1876.000000  1838.699951  1847.300049   27283   \n",
       "2021-02-01  1866.599976  1871.900024  1850.000000  1860.800049    1494   \n",
       "2021-02-02  1859.599976  1861.300049  1827.599976  1830.500000    1494   \n",
       "2021-02-03  1838.500000  1845.900024  1830.099976  1834.800049  134552   \n",
       "\n",
       "            Dividends  Stock Splits  \n",
       "Date                                 \n",
       "2000-08-30          0             0  \n",
       "2000-08-31          0             0  \n",
       "2000-09-01          0             0  \n",
       "2000-09-05          0             0  \n",
       "2000-09-06          0             0  \n",
       "...               ...           ...  \n",
       "2021-01-28          0             0  \n",
       "2021-01-29          0             0  \n",
       "2021-02-01          0             0  \n",
       "2021-02-02          0             0  \n",
       "2021-02-03          0             0  \n",
       "\n",
       "[5092 rows x 7 columns]"
      ]
     },
     "execution_count": 14,
     "metadata": {},
     "output_type": "execute_result"
    }
   ],
   "source": [
    "gold.history(start='2000-01-01')"
   ]
  },
  {
   "cell_type": "code",
   "execution_count": 15,
   "metadata": {},
   "outputs": [],
   "source": [
    "# import pandas as pa\n",
    "# mydata = pa.read_csv(\"C:\\Users\\aizurieta\\Documents\\mydata\\best_data_ever.csv\")\n",
    "gold_history = gold.history(start='2001-01-01')"
   ]
  },
  {
   "cell_type": "code",
   "execution_count": 16,
   "metadata": {},
   "outputs": [
    {
     "data": {
      "text/plain": [
       "<AxesSubplot:xlabel='Date'>"
      ]
     },
     "execution_count": 16,
     "metadata": {},
     "output_type": "execute_result"
    },
    {
     "data": {
      "image/png": "[encoded data removed]",
      "text/plain": [
       "<Figure size 432x288 with 1 Axes>"
      ]
     },
     "metadata": {
      "needs_background": "light"
     },
     "output_type": "display_data"
    }
   ],
   "source": [
    "gold_history['Close'].plot()"
   ]
  },
  {
   "cell_type": "code",
   "execution_count": 17,
   "metadata": {},
   "outputs": [],
   "source": [
    "gold_history_close = gold_history.loc[:, 'Close']"
   ]
  },
  {
   "cell_type": "code",
   "execution_count": 18,
   "metadata": {},
   "outputs": [
    {
     "data": {
      "text/plain": [
       "Date\n",
       "2001-01-02     268.399994\n",
       "2001-01-03     268.000000\n",
       "2001-01-04     267.299988\n",
       "2001-01-05     268.000000\n",
       "2001-01-08     268.000000\n",
       "                 ...     \n",
       "2021-01-28    1837.900024\n",
       "2021-01-29    1847.300049\n",
       "2021-02-01    1860.800049\n",
       "2021-02-02    1830.500000\n",
       "2021-02-03    1834.800049\n",
       "Name: Close, Length: 5008, dtype: float64"
      ]
     },
     "execution_count": 18,
     "metadata": {},
     "output_type": "execute_result"
    }
   ],
   "source": [
    "gold_history_close"
   ]
  },
  {
   "cell_type": "code",
   "execution_count": 19,
   "metadata": {},
   "outputs": [
    {
     "data": {
      "text/plain": [
       "0.08"
      ]
     },
     "execution_count": 19,
     "metadata": {},
     "output_type": "execute_result"
    }
   ],
   "source": [
    "last_tbill_3m"
   ]
  },
  {
   "cell_type": "code",
   "execution_count": 20,
   "metadata": {},
   "outputs": [
    {
     "data": {
      "text/plain": [
       "1834.800048828125"
      ]
     },
     "execution_count": 20,
     "metadata": {},
     "output_type": "execute_result"
    }
   ],
   "source": [
    "gold_history_close.iloc[-1]"
   ]
  },
  {
   "cell_type": "code",
   "execution_count": 26,
   "metadata": {},
   "outputs": [],
   "source": [
    "last_gold_price = gold_history_close.iloc[-1]"
   ]
  },
  {
   "cell_type": "code",
   "execution_count": 27,
   "metadata": {},
   "outputs": [],
   "source": [
    "import numpy as np\n",
    "futures_price_na = last_gold_price * np.exp(last_tbill_3m * 0.25)"
   ]
  },
  {
   "cell_type": "code",
   "execution_count": 28,
   "metadata": {},
   "outputs": [
    {
     "data": {
      "text/plain": [
       "1871.86546849561"
      ]
     },
     "execution_count": 28,
     "metadata": {},
     "output_type": "execute_result"
    }
   ],
   "source": [
    "futures_price_na"
   ]
  },
  {
   "cell_type": "code",
   "execution_count": 29,
   "metadata": {},
   "outputs": [],
   "source": [
    "def futures_price_no_arbitrage(underlying_spot, risk_free_rate,\n",
    "                               time_to_delivery):\n",
    "    \"\"\"\n",
    "    Calculates price of futures contract under no-arbitrage conditions\n",
    "\n",
    "    Parameters\n",
    "    ----------\n",
    "    underlying_spot : float\n",
    "        The spot price of the underlying today.\n",
    "    risk_free_rate : float\n",
    "        Risk-free rate locked in over time to delivery\n",
    "    time_to_delivery : float\n",
    "        Time to delivery\n",
    "    Returns\n",
    "    -------\n",
    "    Futures price\n",
    "\n",
    "    \"\"\"\n",
    "    return underlying_spot * np.exp(risk_free_rate * time_to_delivery)\n"
   ]
  },
  {
   "cell_type": "code",
   "execution_count": 30,
   "metadata": {},
   "outputs": [
    {
     "data": {
      "text/plain": [
       "1871.86546849561"
      ]
     },
     "execution_count": 30,
     "metadata": {},
     "output_type": "execute_result"
    }
   ],
   "source": [
    "futures_price_no_arbitrage(last_gold_price, last_tbill_3m, 0.25)"
   ]
  },
  {
   "cell_type": "code",
   "execution_count": 31,
   "metadata": {},
   "outputs": [],
   "source": [
    "tbill_values = [0.09, 0.08, 0.07]"
   ]
  },
  {
   "cell_type": "code",
   "execution_count": 38,
   "metadata": {},
   "outputs": [
    {
     "name": "stdout",
     "output_type": "stream",
     "text": [
      "0.09\n",
      "Hello\n",
      "True\n",
      "5\n"
     ]
    }
   ],
   "source": [
    "for tbill_val in tbill_values:\n",
    "    print(tbill_val)"
   ]
  },
  {
   "cell_type": "code",
   "execution_count": 37,
   "metadata": {},
   "outputs": [],
   "source": [
    "tbill_values = [0.09, 'Hello', True, 5]"
   ]
  },
  {
   "cell_type": "code",
   "execution_count": 41,
   "metadata": {},
   "outputs": [
    {
     "data": {
      "text/plain": [
       "1934-01-01   NaN\n",
       "1934-02-01   NaN\n",
       "1934-03-01   NaN\n",
       "1934-04-01   NaN\n",
       "1934-05-01   NaN\n",
       "              ..\n",
       "2021-01-28   NaN\n",
       "2021-01-29   NaN\n",
       "2021-02-01   NaN\n",
       "2021-02-02   NaN\n",
       "2021-02-03   NaN\n",
       "Length: 5901, dtype: float64"
      ]
     },
     "execution_count": 41,
     "metadata": {},
     "output_type": "execute_result"
    }
   ],
   "source": [
    "futures_price_no_arbitrage(gold_history_close, t_bill_3m, 0.25)"
   ]
  },
  {
   "cell_type": "code",
   "execution_count": 43,
   "metadata": {},
   "outputs": [
    {
     "data": {
      "text/plain": [
       "2001-02-01     909.459906\n",
       "2001-03-01     800.698366\n",
       "2001-05-01     653.578785\n",
       "2001-06-01     637.464708\n",
       "2001-08-01     619.396515\n",
       "                 ...     \n",
       "2020-06-01    1808.721014\n",
       "2020-07-01    1831.775649\n",
       "2020-09-01    2023.076545\n",
       "2020-10-01    1956.711401\n",
       "2020-12-01    1855.379883\n",
       "Length: 152, dtype: float64"
      ]
     },
     "execution_count": 43,
     "metadata": {},
     "output_type": "execute_result"
    }
   ],
   "source": [
    "futures_price_no_arbitrage(gold_history_close, t_bill_3m, 0.25).dropna()"
   ]
  },
  {
   "cell_type": "code",
   "execution_count": null,
   "metadata": {},
   "outputs": [],
   "source": []
  }
 ],
 "metadata": {
  "kernelspec": {
   "display_name": "Python 3",
   "language": "python",
   "name": "python3"
  },
  "language_info": {
   "codemirror_mode": {
    "name": "ipython",
    "version": 3
   },
   "file_extension": ".py",
   "mimetype": "text/x-python",
   "name": "python",
   "nbconvert_exporter": "python",
   "pygments_lexer": "ipython3",
   "version": "3.8.7"
  }
 },
 "nbformat": 4,
 "nbformat_minor": 4
}

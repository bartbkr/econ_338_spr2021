{
 "cells": [
  {
   "cell_type": "code",
   "execution_count": 4,
   "metadata": {},
   "outputs": [],
   "source": [
    "import os\n",
    "import yfinance\n",
    "\n",
    "from fredapi import Fred"
   ]
  },
  {
   "cell_type": "code",
   "execution_count": 7,
   "metadata": {},
   "outputs": [],
   "source": [
    "fred = Fred(api_key='41105a8ae1700baede0b767c6ef3cdaf')\n",
    "t_bill_3m = fred.get_series('TB3MS')"
   ]
  },
  {
   "cell_type": "code",
   "execution_count": 8,
   "metadata": {},
   "outputs": [
    {
     "data": {
      "text/plain": [
       "1934-01-01    0.72\n",
       "1934-02-01    0.62\n",
       "1934-03-01    0.24\n",
       "1934-04-01    0.15\n",
       "1934-05-01    0.16\n",
       "              ... \n",
       "2020-09-01    0.11\n",
       "2020-10-01    0.10\n",
       "2020-11-01    0.09\n",
       "2020-12-01    0.09\n",
       "2021-01-01    0.08\n",
       "Length: 1045, dtype: float64"
      ]
     },
     "execution_count": 8,
     "metadata": {},
     "output_type": "execute_result"
    }
   ],
   "source": [
    "t_bill_3m"
   ]
  },
  {
   "cell_type": "code",
   "execution_count": 10,
   "metadata": {},
   "outputs": [
    {
     "data": {
      "text/plain": [
       "<AxesSubplot:>"
      ]
     },
     "execution_count": 10,
     "metadata": {},
     "output_type": "execute_result"
    },
    {
     "data": {
      "image/png": "[encoded data removed]",
      "text/plain": [
       "<Figure size 432x288 with 1 Axes>"
      ]
     },
     "metadata": {
      "needs_background": "light"
     },
     "output_type": "display_data"
    }
   ],
   "source": [
    "t_bill_3m.plot()"
   ]
  },
  {
   "cell_type": "code",
   "execution_count": 13,
   "metadata": {},
   "outputs": [
    {
     "data": {
      "text/plain": [
       "1.52"
      ]
     },
     "execution_count": 13,
     "metadata": {},
     "output_type": "execute_result"
    }
   ],
   "source": [
    "last_tbill_3m = t_bill_3m.iloc[-1]\n",
    "t_bill_3m.loc['2020-01-01']"
   ]
  },
  {
   "cell_type": "code",
   "execution_count": 8,
   "metadata": {},
   "outputs": [
    {
     "data": {
      "text/plain": [
       "0.08"
      ]
     },
     "execution_count": 8,
     "metadata": {},
     "output_type": "execute_result"
    }
   ],
   "source": [
    "last_tbill_3m"
   ]
  },
  {
   "cell_type": "code",
   "execution_count": 14,
   "metadata": {},
   "outputs": [],
   "source": [
    "gold = yfinance.Ticker('GC=F')"
   ]
  },
  {
   "cell_type": "code",
   "execution_count": 15,
   "metadata": {},
   "outputs": [
    {
     "data": {
      "text/plain": [
       "yfinance.Ticker object <GC=F>"
      ]
     },
     "execution_count": 15,
     "metadata": {},
     "output_type": "execute_result"
    }
   ],
   "source": [
    "gold"
   ]
  },
  {
   "cell_type": "code",
   "execution_count": 17,
   "metadata": {},
   "outputs": [
    {
     "data": {
      "text/plain": [
       "{'previousClose': 1805.9,\n",
       " 'regularMarketOpen': 1805,\n",
       " 'twoHundredDayAverage': 1886.7893,\n",
       " 'trailingAnnualDividendYield': None,\n",
       " 'payoutRatio': None,\n",
       " 'volume24Hr': None,\n",
       " 'regularMarketDayHigh': 1813,\n",
       " 'navPrice': None,\n",
       " 'averageDailyVolume10Day': 515,\n",
       " 'totalAssets': None,\n",
       " 'regularMarketPreviousClose': 1805.9,\n",
       " 'fiftyDayAverage': 1842.3618,\n",
       " 'trailingAnnualDividendRate': None,\n",
       " 'open': 1805,\n",
       " 'toCurrency': None,\n",
       " 'averageVolume10days': 515,\n",
       " 'expireDate': 1619568000,\n",
       " 'yield': None,\n",
       " 'algorithm': None,\n",
       " 'dividendRate': None,\n",
       " 'exDividendDate': None,\n",
       " 'beta': None,\n",
       " 'circulatingSupply': None,\n",
       " 'startDate': None,\n",
       " 'regularMarketDayLow': 1782.2,\n",
       " 'priceHint': 2,\n",
       " 'currency': 'USD',\n",
       " 'regularMarketVolume': 220240,\n",
       " 'lastMarket': None,\n",
       " 'maxSupply': None,\n",
       " 'openInterest': 364210,\n",
       " 'marketCap': None,\n",
       " 'volumeAllCurrencies': None,\n",
       " 'strikePrice': None,\n",
       " 'averageVolume': 8733,\n",
       " 'priceToSalesTrailing12Months': None,\n",
       " 'dayLow': 1782.2,\n",
       " 'ask': 1805.9,\n",
       " 'ytdReturn': None,\n",
       " 'askSize': 1200,\n",
       " 'volume': 220240,\n",
       " 'fiftyTwoWeekHigh': 2063,\n",
       " 'forwardPE': None,\n",
       " 'maxAge': 1,\n",
       " 'fromCurrency': None,\n",
       " 'fiveYearAvgDividendYield': None,\n",
       " 'fiftyTwoWeekLow': 1452.1,\n",
       " 'bid': 1803.4,\n",
       " 'tradeable': False,\n",
       " 'dividendYield': None,\n",
       " 'bidSize': 1400,\n",
       " 'dayHigh': 1813,\n",
       " 'exchange': 'CMX',\n",
       " 'shortName': 'Gold Apr 21',\n",
       " 'exchangeTimezoneName': 'America/New_York',\n",
       " 'exchangeTimezoneShortName': 'EST',\n",
       " 'isEsgPopulated': False,\n",
       " 'gmtOffSetMilliseconds': '-18000000',\n",
       " 'underlyingSymbol': 'GCJ21.CMX',\n",
       " 'quoteType': 'FUTURE',\n",
       " 'symbol': 'GC=F',\n",
       " 'underlyingExchangeSymbol': 'GCJ21.CMX',\n",
       " 'headSymbol': 'GC=F',\n",
       " 'market': 'us24_market',\n",
       " 'regularMarketPrice': 1805,\n",
       " 'logo_url': ''}"
      ]
     },
     "execution_count": 17,
     "metadata": {},
     "output_type": "execute_result"
    }
   ],
   "source": [
    "gold.info"
   ]
  },
  {
   "cell_type": "code",
   "execution_count": 18,
   "metadata": {},
   "outputs": [
    {
     "data": {
      "text/html": [
       "<div>\n",
       "<style scoped>\n",
       "    .dataframe tbody tr th:only-of-type {\n",
       "        vertical-align: middle;\n",
       "    }\n",
       "\n",
       "    .dataframe tbody tr th {\n",
       "        vertical-align: top;\n",
       "    }\n",
       "\n",
       "    .dataframe thead th {\n",
       "        text-align: right;\n",
       "    }\n",
       "</style>\n",
       "<table border=\"1\" class=\"dataframe\">\n",
       "  <thead>\n",
       "    <tr style=\"text-align: right;\">\n",
       "      <th></th>\n",
       "      <th>Open</th>\n",
       "      <th>High</th>\n",
       "      <th>Low</th>\n",
       "      <th>Close</th>\n",
       "      <th>Volume</th>\n",
       "      <th>Dividends</th>\n",
       "      <th>Stock Splits</th>\n",
       "    </tr>\n",
       "    <tr>\n",
       "      <th>Date</th>\n",
       "      <th></th>\n",
       "      <th></th>\n",
       "      <th></th>\n",
       "      <th></th>\n",
       "      <th></th>\n",
       "      <th></th>\n",
       "      <th></th>\n",
       "    </tr>\n",
       "  </thead>\n",
       "  <tbody>\n",
       "    <tr>\n",
       "      <th>2021-01-25</th>\n",
       "      <td>1864.699951</td>\n",
       "      <td>1864.699951</td>\n",
       "      <td>1851.800049</td>\n",
       "      <td>1854.900024</td>\n",
       "      <td>26</td>\n",
       "      <td>0</td>\n",
       "      <td>0</td>\n",
       "    </tr>\n",
       "    <tr>\n",
       "      <th>2021-01-26</th>\n",
       "      <td>1855.800049</td>\n",
       "      <td>1855.800049</td>\n",
       "      <td>1850.699951</td>\n",
       "      <td>1850.699951</td>\n",
       "      <td>59</td>\n",
       "      <td>0</td>\n",
       "      <td>0</td>\n",
       "    </tr>\n",
       "    <tr>\n",
       "      <th>2021-01-27</th>\n",
       "      <td>1844.900024</td>\n",
       "      <td>1844.900024</td>\n",
       "      <td>1844.900024</td>\n",
       "      <td>1844.900024</td>\n",
       "      <td>195540</td>\n",
       "      <td>0</td>\n",
       "      <td>0</td>\n",
       "    </tr>\n",
       "    <tr>\n",
       "      <th>2021-01-28</th>\n",
       "      <td>1843.400024</td>\n",
       "      <td>1862.900024</td>\n",
       "      <td>1831.500000</td>\n",
       "      <td>1837.900024</td>\n",
       "      <td>27283</td>\n",
       "      <td>0</td>\n",
       "      <td>0</td>\n",
       "    </tr>\n",
       "    <tr>\n",
       "      <th>2021-01-29</th>\n",
       "      <td>1842.000000</td>\n",
       "      <td>1876.000000</td>\n",
       "      <td>1838.699951</td>\n",
       "      <td>1847.300049</td>\n",
       "      <td>1634</td>\n",
       "      <td>0</td>\n",
       "      <td>0</td>\n",
       "    </tr>\n",
       "    <tr>\n",
       "      <th>2021-02-01</th>\n",
       "      <td>1866.599976</td>\n",
       "      <td>1871.900024</td>\n",
       "      <td>1850.000000</td>\n",
       "      <td>1860.800049</td>\n",
       "      <td>1494</td>\n",
       "      <td>0</td>\n",
       "      <td>0</td>\n",
       "    </tr>\n",
       "    <tr>\n",
       "      <th>2021-02-02</th>\n",
       "      <td>1859.599976</td>\n",
       "      <td>1861.300049</td>\n",
       "      <td>1827.599976</td>\n",
       "      <td>1830.500000</td>\n",
       "      <td>1293</td>\n",
       "      <td>0</td>\n",
       "      <td>0</td>\n",
       "    </tr>\n",
       "    <tr>\n",
       "      <th>2021-02-03</th>\n",
       "      <td>1834.800049</td>\n",
       "      <td>1842.400024</td>\n",
       "      <td>1829.800049</td>\n",
       "      <td>1832.199951</td>\n",
       "      <td>1195</td>\n",
       "      <td>0</td>\n",
       "      <td>0</td>\n",
       "    </tr>\n",
       "    <tr>\n",
       "      <th>2021-02-04</th>\n",
       "      <td>1832.199951</td>\n",
       "      <td>1832.199951</td>\n",
       "      <td>1782.800049</td>\n",
       "      <td>1788.900024</td>\n",
       "      <td>2375</td>\n",
       "      <td>0</td>\n",
       "      <td>0</td>\n",
       "    </tr>\n",
       "    <tr>\n",
       "      <th>2021-02-05</th>\n",
       "      <td>1794.300049</td>\n",
       "      <td>1813.500000</td>\n",
       "      <td>1790.900024</td>\n",
       "      <td>1810.900024</td>\n",
       "      <td>1278</td>\n",
       "      <td>0</td>\n",
       "      <td>0</td>\n",
       "    </tr>\n",
       "    <tr>\n",
       "      <th>2021-02-08</th>\n",
       "      <td>1816.300049</td>\n",
       "      <td>1836.699951</td>\n",
       "      <td>1809.000000</td>\n",
       "      <td>1831.900024</td>\n",
       "      <td>254</td>\n",
       "      <td>0</td>\n",
       "      <td>0</td>\n",
       "    </tr>\n",
       "    <tr>\n",
       "      <th>2021-02-09</th>\n",
       "      <td>1841.900024</td>\n",
       "      <td>1843.300049</td>\n",
       "      <td>1830.699951</td>\n",
       "      <td>1835.300049</td>\n",
       "      <td>184</td>\n",
       "      <td>0</td>\n",
       "      <td>0</td>\n",
       "    </tr>\n",
       "    <tr>\n",
       "      <th>2021-02-10</th>\n",
       "      <td>1842.599976</td>\n",
       "      <td>1851.099976</td>\n",
       "      <td>1837.000000</td>\n",
       "      <td>1840.599976</td>\n",
       "      <td>543</td>\n",
       "      <td>0</td>\n",
       "      <td>0</td>\n",
       "    </tr>\n",
       "    <tr>\n",
       "      <th>2021-02-11</th>\n",
       "      <td>1840.500000</td>\n",
       "      <td>1845.000000</td>\n",
       "      <td>1820.900024</td>\n",
       "      <td>1824.900024</td>\n",
       "      <td>602</td>\n",
       "      <td>0</td>\n",
       "      <td>0</td>\n",
       "    </tr>\n",
       "    <tr>\n",
       "      <th>2021-02-12</th>\n",
       "      <td>1825.000000</td>\n",
       "      <td>1827.500000</td>\n",
       "      <td>1809.199951</td>\n",
       "      <td>1821.599976</td>\n",
       "      <td>259</td>\n",
       "      <td>0</td>\n",
       "      <td>0</td>\n",
       "    </tr>\n",
       "    <tr>\n",
       "      <th>2021-02-16</th>\n",
       "      <td>1820.900024</td>\n",
       "      <td>1823.400024</td>\n",
       "      <td>1787.300049</td>\n",
       "      <td>1797.199951</td>\n",
       "      <td>1141</td>\n",
       "      <td>0</td>\n",
       "      <td>0</td>\n",
       "    </tr>\n",
       "    <tr>\n",
       "      <th>2021-02-17</th>\n",
       "      <td>1785.800049</td>\n",
       "      <td>1789.699951</td>\n",
       "      <td>1768.800049</td>\n",
       "      <td>1771.099976</td>\n",
       "      <td>614</td>\n",
       "      <td>0</td>\n",
       "      <td>0</td>\n",
       "    </tr>\n",
       "    <tr>\n",
       "      <th>2021-02-18</th>\n",
       "      <td>1776.099976</td>\n",
       "      <td>1784.599976</td>\n",
       "      <td>1766.000000</td>\n",
       "      <td>1773.400024</td>\n",
       "      <td>587</td>\n",
       "      <td>0</td>\n",
       "      <td>0</td>\n",
       "    </tr>\n",
       "    <tr>\n",
       "      <th>2021-02-19</th>\n",
       "      <td>1764.300049</td>\n",
       "      <td>1787.599976</td>\n",
       "      <td>1764.300049</td>\n",
       "      <td>1775.800049</td>\n",
       "      <td>118</td>\n",
       "      <td>0</td>\n",
       "      <td>0</td>\n",
       "    </tr>\n",
       "    <tr>\n",
       "      <th>2021-02-22</th>\n",
       "      <td>1784.000000</td>\n",
       "      <td>1807.800049</td>\n",
       "      <td>1784.000000</td>\n",
       "      <td>1806.699951</td>\n",
       "      <td>165</td>\n",
       "      <td>0</td>\n",
       "      <td>0</td>\n",
       "    </tr>\n",
       "    <tr>\n",
       "      <th>2021-02-23</th>\n",
       "      <td>1809.599976</td>\n",
       "      <td>1811.300049</td>\n",
       "      <td>1796.400024</td>\n",
       "      <td>1804.400024</td>\n",
       "      <td>165</td>\n",
       "      <td>0</td>\n",
       "      <td>0</td>\n",
       "    </tr>\n",
       "    <tr>\n",
       "      <th>2021-02-24</th>\n",
       "      <td>1805.000000</td>\n",
       "      <td>1813.000000</td>\n",
       "      <td>1782.199951</td>\n",
       "      <td>1804.000000</td>\n",
       "      <td>220240</td>\n",
       "      <td>0</td>\n",
       "      <td>0</td>\n",
       "    </tr>\n",
       "  </tbody>\n",
       "</table>\n",
       "</div>"
      ],
      "text/plain": [
       "                   Open         High          Low        Close  Volume  \\\n",
       "Date                                                                     \n",
       "2021-01-25  1864.699951  1864.699951  1851.800049  1854.900024      26   \n",
       "2021-01-26  1855.800049  1855.800049  1850.699951  1850.699951      59   \n",
       "2021-01-27  1844.900024  1844.900024  1844.900024  1844.900024  195540   \n",
       "2021-01-28  1843.400024  1862.900024  1831.500000  1837.900024   27283   \n",
       "2021-01-29  1842.000000  1876.000000  1838.699951  1847.300049    1634   \n",
       "2021-02-01  1866.599976  1871.900024  1850.000000  1860.800049    1494   \n",
       "2021-02-02  1859.599976  1861.300049  1827.599976  1830.500000    1293   \n",
       "2021-02-03  1834.800049  1842.400024  1829.800049  1832.199951    1195   \n",
       "2021-02-04  1832.199951  1832.199951  1782.800049  1788.900024    2375   \n",
       "2021-02-05  1794.300049  1813.500000  1790.900024  1810.900024    1278   \n",
       "2021-02-08  1816.300049  1836.699951  1809.000000  1831.900024     254   \n",
       "2021-02-09  1841.900024  1843.300049  1830.699951  1835.300049     184   \n",
       "2021-02-10  1842.599976  1851.099976  1837.000000  1840.599976     543   \n",
       "2021-02-11  1840.500000  1845.000000  1820.900024  1824.900024     602   \n",
       "2021-02-12  1825.000000  1827.500000  1809.199951  1821.599976     259   \n",
       "2021-02-16  1820.900024  1823.400024  1787.300049  1797.199951    1141   \n",
       "2021-02-17  1785.800049  1789.699951  1768.800049  1771.099976     614   \n",
       "2021-02-18  1776.099976  1784.599976  1766.000000  1773.400024     587   \n",
       "2021-02-19  1764.300049  1787.599976  1764.300049  1775.800049     118   \n",
       "2021-02-22  1784.000000  1807.800049  1784.000000  1806.699951     165   \n",
       "2021-02-23  1809.599976  1811.300049  1796.400024  1804.400024     165   \n",
       "2021-02-24  1805.000000  1813.000000  1782.199951  1804.000000  220240   \n",
       "\n",
       "            Dividends  Stock Splits  \n",
       "Date                                 \n",
       "2021-01-25          0             0  \n",
       "2021-01-26          0             0  \n",
       "2021-01-27          0             0  \n",
       "2021-01-28          0             0  \n",
       "2021-01-29          0             0  \n",
       "2021-02-01          0             0  \n",
       "2021-02-02          0             0  \n",
       "2021-02-03          0             0  \n",
       "2021-02-04          0             0  \n",
       "2021-02-05          0             0  \n",
       "2021-02-08          0             0  \n",
       "2021-02-09          0             0  \n",
       "2021-02-10          0             0  \n",
       "2021-02-11          0             0  \n",
       "2021-02-12          0             0  \n",
       "2021-02-16          0             0  \n",
       "2021-02-17          0             0  \n",
       "2021-02-18          0             0  \n",
       "2021-02-19          0             0  \n",
       "2021-02-22          0             0  \n",
       "2021-02-23          0             0  \n",
       "2021-02-24          0             0  "
      ]
     },
     "execution_count": 18,
     "metadata": {},
     "output_type": "execute_result"
    }
   ],
   "source": [
    "gold.history()"
   ]
  },
  {
   "cell_type": "code",
   "execution_count": 13,
   "metadata": {},
   "outputs": [
    {
     "data": {
      "text/plain": [
       "22"
      ]
     },
     "execution_count": 13,
     "metadata": {},
     "output_type": "execute_result"
    }
   ],
   "source": [
    "len(gold.history().index)"
   ]
  },
  {
   "cell_type": "code",
   "execution_count": 14,
   "metadata": {},
   "outputs": [
    {
     "data": {
      "text/html": [
       "<div>\n",
       "<style scoped>\n",
       "    .dataframe tbody tr th:only-of-type {\n",
       "        vertical-align: middle;\n",
       "    }\n",
       "\n",
       "    .dataframe tbody tr th {\n",
       "        vertical-align: top;\n",
       "    }\n",
       "\n",
       "    .dataframe thead th {\n",
       "        text-align: right;\n",
       "    }\n",
       "</style>\n",
       "<table border=\"1\" class=\"dataframe\">\n",
       "  <thead>\n",
       "    <tr style=\"text-align: right;\">\n",
       "      <th></th>\n",
       "      <th>Open</th>\n",
       "      <th>High</th>\n",
       "      <th>Low</th>\n",
       "      <th>Close</th>\n",
       "      <th>Volume</th>\n",
       "      <th>Dividends</th>\n",
       "      <th>Stock Splits</th>\n",
       "    </tr>\n",
       "    <tr>\n",
       "      <th>Date</th>\n",
       "      <th></th>\n",
       "      <th></th>\n",
       "      <th></th>\n",
       "      <th></th>\n",
       "      <th></th>\n",
       "      <th></th>\n",
       "      <th></th>\n",
       "    </tr>\n",
       "  </thead>\n",
       "  <tbody>\n",
       "    <tr>\n",
       "      <th>2000-08-30</th>\n",
       "      <td>273.899994</td>\n",
       "      <td>273.899994</td>\n",
       "      <td>273.899994</td>\n",
       "      <td>273.899994</td>\n",
       "      <td>0</td>\n",
       "      <td>0</td>\n",
       "      <td>0</td>\n",
       "    </tr>\n",
       "    <tr>\n",
       "      <th>2000-08-31</th>\n",
       "      <td>274.799988</td>\n",
       "      <td>278.299988</td>\n",
       "      <td>274.799988</td>\n",
       "      <td>278.299988</td>\n",
       "      <td>0</td>\n",
       "      <td>0</td>\n",
       "      <td>0</td>\n",
       "    </tr>\n",
       "    <tr>\n",
       "      <th>2000-09-01</th>\n",
       "      <td>277.000000</td>\n",
       "      <td>277.000000</td>\n",
       "      <td>277.000000</td>\n",
       "      <td>277.000000</td>\n",
       "      <td>0</td>\n",
       "      <td>0</td>\n",
       "      <td>0</td>\n",
       "    </tr>\n",
       "    <tr>\n",
       "      <th>2000-09-05</th>\n",
       "      <td>275.799988</td>\n",
       "      <td>275.799988</td>\n",
       "      <td>275.799988</td>\n",
       "      <td>275.799988</td>\n",
       "      <td>2</td>\n",
       "      <td>0</td>\n",
       "      <td>0</td>\n",
       "    </tr>\n",
       "    <tr>\n",
       "      <th>2000-09-06</th>\n",
       "      <td>274.200012</td>\n",
       "      <td>274.200012</td>\n",
       "      <td>274.200012</td>\n",
       "      <td>274.200012</td>\n",
       "      <td>0</td>\n",
       "      <td>0</td>\n",
       "      <td>0</td>\n",
       "    </tr>\n",
       "    <tr>\n",
       "      <th>...</th>\n",
       "      <td>...</td>\n",
       "      <td>...</td>\n",
       "      <td>...</td>\n",
       "      <td>...</td>\n",
       "      <td>...</td>\n",
       "      <td>...</td>\n",
       "      <td>...</td>\n",
       "    </tr>\n",
       "    <tr>\n",
       "      <th>2021-01-28</th>\n",
       "      <td>1843.400024</td>\n",
       "      <td>1862.900024</td>\n",
       "      <td>1831.500000</td>\n",
       "      <td>1837.900024</td>\n",
       "      <td>27283</td>\n",
       "      <td>0</td>\n",
       "      <td>0</td>\n",
       "    </tr>\n",
       "    <tr>\n",
       "      <th>2021-01-29</th>\n",
       "      <td>1842.000000</td>\n",
       "      <td>1876.000000</td>\n",
       "      <td>1838.699951</td>\n",
       "      <td>1847.300049</td>\n",
       "      <td>27283</td>\n",
       "      <td>0</td>\n",
       "      <td>0</td>\n",
       "    </tr>\n",
       "    <tr>\n",
       "      <th>2021-02-01</th>\n",
       "      <td>1866.599976</td>\n",
       "      <td>1871.900024</td>\n",
       "      <td>1850.000000</td>\n",
       "      <td>1860.800049</td>\n",
       "      <td>1494</td>\n",
       "      <td>0</td>\n",
       "      <td>0</td>\n",
       "    </tr>\n",
       "    <tr>\n",
       "      <th>2021-02-02</th>\n",
       "      <td>1859.599976</td>\n",
       "      <td>1861.300049</td>\n",
       "      <td>1827.599976</td>\n",
       "      <td>1830.500000</td>\n",
       "      <td>1494</td>\n",
       "      <td>0</td>\n",
       "      <td>0</td>\n",
       "    </tr>\n",
       "    <tr>\n",
       "      <th>2021-02-03</th>\n",
       "      <td>1838.500000</td>\n",
       "      <td>1845.900024</td>\n",
       "      <td>1830.099976</td>\n",
       "      <td>1834.800049</td>\n",
       "      <td>134552</td>\n",
       "      <td>0</td>\n",
       "      <td>0</td>\n",
       "    </tr>\n",
       "  </tbody>\n",
       "</table>\n",
       "<p>5092 rows × 7 columns</p>\n",
       "</div>"
      ],
      "text/plain": [
       "                   Open         High          Low        Close  Volume  \\\n",
       "Date                                                                     \n",
       "2000-08-30   273.899994   273.899994   273.899994   273.899994       0   \n",
       "2000-08-31   274.799988   278.299988   274.799988   278.299988       0   \n",
       "2000-09-01   277.000000   277.000000   277.000000   277.000000       0   \n",
       "2000-09-05   275.799988   275.799988   275.799988   275.799988       2   \n",
       "2000-09-06   274.200012   274.200012   274.200012   274.200012       0   \n",
       "...                 ...          ...          ...          ...     ...   \n",
       "2021-01-28  1843.400024  1862.900024  1831.500000  1837.900024   27283   \n",
       "2021-01-29  1842.000000  1876.000000  1838.699951  1847.300049   27283   \n",
       "2021-02-01  1866.599976  1871.900024  1850.000000  1860.800049    1494   \n",
       "2021-02-02  1859.599976  1861.300049  1827.599976  1830.500000    1494   \n",
       "2021-02-03  1838.500000  1845.900024  1830.099976  1834.800049  134552   \n",
       "\n",
       "            Dividends  Stock Splits  \n",
       "Date                                 \n",
       "2000-08-30          0             0  \n",
       "2000-08-31          0             0  \n",
       "2000-09-01          0             0  \n",
       "2000-09-05          0             0  \n",
       "2000-09-06          0             0  \n",
       "...               ...           ...  \n",
       "2021-01-28          0             0  \n",
       "2021-01-29          0             0  \n",
       "2021-02-01          0             0  \n",
       "2021-02-02          0             0  \n",
       "2021-02-03          0             0  \n",
       "\n",
       "[5092 rows x 7 columns]"
      ]
     },
     "execution_count": 14,
     "metadata": {},
     "output_type": "execute_result"
    }
   ],
   "source": [
    "gold.history(start='2000-01-01')"
   ]
  },
  {
   "cell_type": "code",
   "execution_count": 19,
   "metadata": {},
   "outputs": [],
   "source": [
    "# import pandas as pa\n",
    "# mydata = pa.read_csv(\"C:\\Users\\aizurieta\\Documents\\mydata\\best_data_ever.csv\")\n",
    "gold_history = gold.history(start='2001-01-01')"
   ]
  },
  {
   "cell_type": "code",
   "execution_count": 20,
   "metadata": {},
   "outputs": [
    {
     "data": {
      "text/plain": [
       "<AxesSubplot:xlabel='Date'>"
      ]
     },
     "execution_count": 20,
     "metadata": {},
     "output_type": "execute_result"
    },
    {
     "data": {
      "image/png": "[encoded data removed]",
      "text/plain": [
       "<Figure size 432x288 with 1 Axes>"
      ]
     },
     "metadata": {
      "needs_background": "light"
     },
     "output_type": "display_data"
    }
   ],
   "source": [
    "gold_history['Close'].plot()"
   ]
  },
  {
   "cell_type": "code",
   "execution_count": 21,
   "metadata": {},
   "outputs": [],
   "source": [
    "gold_history_close = gold_history.loc[:, 'Close']"
   ]
  },
  {
   "cell_type": "code",
   "execution_count": 22,
   "metadata": {},
   "outputs": [
    {
     "data": {
      "text/plain": [
       "Date\n",
       "2001-01-02     268.399994\n",
       "2001-01-03     268.000000\n",
       "2001-01-04     267.299988\n",
       "2001-01-05     268.000000\n",
       "2001-01-08     268.000000\n",
       "                 ...     \n",
       "2021-02-18    1773.400024\n",
       "2021-02-19    1775.800049\n",
       "2021-02-22    1806.699951\n",
       "2021-02-23    1804.400024\n",
       "2021-02-24    1804.000000\n",
       "Name: Close, Length: 5022, dtype: float64"
      ]
     },
     "execution_count": 22,
     "metadata": {},
     "output_type": "execute_result"
    }
   ],
   "source": [
    "gold_history_close"
   ]
  },
  {
   "cell_type": "code",
   "execution_count": 19,
   "metadata": {},
   "outputs": [
    {
     "data": {
      "text/plain": [
       "0.08"
      ]
     },
     "execution_count": 19,
     "metadata": {},
     "output_type": "execute_result"
    }
   ],
   "source": [
    "last_tbill_3m"
   ]
  },
  {
   "cell_type": "code",
   "execution_count": 23,
   "metadata": {},
   "outputs": [
    {
     "data": {
      "text/plain": [
       "1804.0"
      ]
     },
     "execution_count": 23,
     "metadata": {},
     "output_type": "execute_result"
    }
   ],
   "source": [
    "gold_history_close.iloc[-1]"
   ]
  },
  {
   "cell_type": "code",
   "execution_count": 24,
   "metadata": {},
   "outputs": [],
   "source": [
    "last_gold_price = gold_history_close.iloc[-1]"
   ]
  },
  {
   "cell_type": "code",
   "execution_count": 25,
   "metadata": {},
   "outputs": [],
   "source": [
    "import numpy as np\n",
    "futures_price_na = last_gold_price * np.exp(last_tbill_3m * 0.25)"
   ]
  },
  {
   "cell_type": "code",
   "execution_count": 26,
   "metadata": {},
   "outputs": [
    {
     "data": {
      "text/plain": [
       "1840.4432174082674"
      ]
     },
     "execution_count": 26,
     "metadata": {},
     "output_type": "execute_result"
    }
   ],
   "source": [
    "futures_price_na"
   ]
  },
  {
   "cell_type": "code",
   "execution_count": 27,
   "metadata": {},
   "outputs": [],
   "source": [
    "def futures_price_no_arbitrage(underlying_spot, risk_free_rate,\n",
    "                               time_to_delivery):\n",
    "    \"\"\"\n",
    "    Calculates price of futures contract under no-arbitrage conditions\n",
    "\n",
    "    Parameters\n",
    "    ----------\n",
    "    underlying_spot : float\n",
    "        The spot price of the underlying today.\n",
    "    risk_free_rate : float\n",
    "        Risk-free rate locked in over time to delivery\n",
    "    time_to_delivery : float\n",
    "        Time to delivery\n",
    "    Returns\n",
    "    -------\n",
    "    Futures price\n",
    "\n",
    "    \"\"\"\n",
    "    return underlying_spot * np.exp(risk_free_rate * time_to_delivery)\n"
   ]
  },
  {
   "cell_type": "code",
   "execution_count": 28,
   "metadata": {},
   "outputs": [
    {
     "data": {
      "text/plain": [
       "1840.4432174082674"
      ]
     },
     "execution_count": 28,
     "metadata": {},
     "output_type": "execute_result"
    }
   ],
   "source": [
    "futures_price_no_arbitrage(last_gold_price, last_tbill_3m, 0.25)"
   ]
  },
  {
   "cell_type": "code",
   "execution_count": 31,
   "metadata": {},
   "outputs": [],
   "source": [
    "tbill_values = [0.09, 0.08, 0.07]"
   ]
  },
  {
   "cell_type": "code",
   "execution_count": 38,
   "metadata": {},
   "outputs": [
    {
     "name": "stdout",
     "output_type": "stream",
     "text": [
      "0.09\n",
      "Hello\n",
      "True\n",
      "5\n"
     ]
    }
   ],
   "source": [
    "for tbill_val in tbill_values:\n",
    "    print(tbill_val)"
   ]
  },
  {
   "cell_type": "code",
   "execution_count": 37,
   "metadata": {},
   "outputs": [
    {
     "name": "stdout",
     "output_type": "stream",
     "text": [
      "Date\n",
      "2001-01-01     265.371427\n",
      "2001-02-01     261.805263\n",
      "2001-03-01     262.290907\n",
      "2001-04-01     261.079997\n",
      "2001-05-01     272.077272\n",
      "                 ...     \n",
      "2020-10-01    1900.245450\n",
      "2020-11-01    1870.510524\n",
      "2020-12-01    1858.314273\n",
      "2021-01-01    1865.184217\n",
      "2021-02-01    1812.364710\n",
      "Freq: MS, Name: Close, Length: 242, dtype: float64\n"
     ]
    }
   ],
   "source": [
    "tbill_values = [0.09, 'Hello', True, 5]\n",
    "import pandas as pa\n",
    "gold_history_monthly = gold_history_close.groupby(pa.Grouper(freq='MS')).mean()\n",
    "print(gold_history_monthly)"
   ]
  },
  {
   "cell_type": "code",
   "execution_count": 39,
   "metadata": {},
   "outputs": [
    {
     "data": {
      "text/plain": [
       "1934-01-01            NaN\n",
       "1934-02-01            NaN\n",
       "1934-03-01            NaN\n",
       "1934-04-01            NaN\n",
       "1934-05-01            NaN\n",
       "                 ...     \n",
       "2020-10-01    1948.350393\n",
       "2020-11-01    1913.074055\n",
       "2020-12-01    1900.600278\n",
       "2021-01-01    1902.863438\n",
       "2021-02-01            NaN\n",
       "Length: 1046, dtype: float64"
      ]
     },
     "execution_count": 39,
     "metadata": {},
     "output_type": "execute_result"
    }
   ],
   "source": [
    "futures_price_no_arbitrage(gold_history_monthly, t_bill_3m, 0.25)"
   ]
  },
  {
   "cell_type": "code",
   "execution_count": 43,
   "metadata": {},
   "outputs": [
    {
     "data": {
      "text/plain": [
       "2001-02-01     909.459906\n",
       "2001-03-01     800.698366\n",
       "2001-05-01     653.578785\n",
       "2001-06-01     637.464708\n",
       "2001-08-01     619.396515\n",
       "                 ...     \n",
       "2020-06-01    1808.721014\n",
       "2020-07-01    1831.775649\n",
       "2020-09-01    2023.076545\n",
       "2020-10-01    1956.711401\n",
       "2020-12-01    1855.379883\n",
       "Length: 152, dtype: float64"
      ]
     },
     "execution_count": 43,
     "metadata": {},
     "output_type": "execute_result"
    }
   ],
   "source": [
    "futures_price_no_arbitrage(gold_history_close, t_bill_3m, 0.25).dropna()"
   ]
  },
  {
   "cell_type": "code",
   "execution_count": null,
   "metadata": {},
   "outputs": [],
   "source": []
  }
 ],
 "metadata": {
  "kernelspec": {
   "display_name": "Python 3",
   "language": "python",
   "name": "python3"
  },
  "language_info": {
   "codemirror_mode": {
    "name": "ipython",
    "version": 3
   },
   "file_extension": ".py",
   "mimetype": "text/x-python",
   "name": "python",
   "nbconvert_exporter": "python",
   "pygments_lexer": "ipython3",
   "version": "3.8.5"
  }
 },
 "nbformat": 4,
 "nbformat_minor": 4
}
